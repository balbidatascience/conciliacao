{
 "cells": [
  {
   "cell_type": "code",
   "execution_count": 4,
   "metadata": {
    "collapsed": true
   },
   "outputs": [],
   "source": [
    "import pandas as pd\n",
    "from datetime import datetime"
   ]
  },
  {
   "cell_type": "code",
   "execution_count": 37,
   "metadata": {},
   "outputs": [],
   "source": [
    "fileName = \"D:/Balbi/Clientes/IngressoRapido/Conciliacao/Dev/python/conciliacao/dados/ComprasAtivasLegado_v1.csv\"\n",
    "df = pd.read_csv(fileName, delimiter=',', dtype=object, encoding='UTF-8')"
   ]
  },
  {
   "cell_type": "code",
   "execution_count": 51,
   "metadata": {},
   "outputs": [],
   "source": [
    "df_v1 = df.copy()"
   ]
  },
  {
   "cell_type": "code",
   "execution_count": 52,
   "metadata": {
    "collapsed": true
   },
   "outputs": [],
   "source": [
    "df_v1['data_compra'] = df_v1['data_compra'].map(lambda x: datetime.strptime(str(x), \"%d/%m/%Y %H:%M:%S\").strftime('%Y-%m-%d %H:%M:%S'), na_action='ignore')\n",
    "df_v1['data_evento'] = df_v1['data_evento'].map(lambda x: datetime.strptime(str(x), \"%d/%m/%Y %H:%M\").strftime('%Y-%m-%d %H:%M'), na_action='ignore')\n",
    "df_v1['data_venda_completa'] = df_v1['data_venda_completa'].astype(datetime)\n",
    "df_v1['quantidade_ingressos'] = df_v1['quantidade_ingressos'].astype(int)\n",
    "df_v1['valor_taxa_conveniencia_total'] = df_v1['valor_taxa_conveniencia_total'].map(lambda x: x.replace('.', '').replace(',', '.')).astype(float)\n",
    "df_v1['valor_taxa_entrega_total'] = df_v1['valor_taxa_entrega_total'].map(lambda x: x.replace('.', '').replace(',', '.')).astype(float)\n",
    "df_v1['valor_juros_total'] = df_v1['valor_juros_total'].map(lambda x: x.replace('.', '').replace(',', '.')).astype(float)\n",
    "df_v1['valor_ingressos_ativos_total'] = df_v1['valor_ingressos_ativos_total'].map(lambda x: x.replace('.', '').replace(',', '.')).astype(float)\n",
    "df_v1['valor_compra_original_total'] = df_v1['valor_compra_original_total'].map(lambda x: x.replace('.', '').replace(',', '.')).astype(float)\n",
    "df_v1['numero_parcelas'] = df_v1['numero_parcelas'].astype(int)"
   ]
  },
  {
   "cell_type": "code",
   "execution_count": 53,
   "metadata": {
    "collapsed": false
   },
   "outputs": [
    {
     "data": {
      "text/plain": [
       "is_bileto                             object\ngateway                               object\nnumero_venda_ir                       object\nvenda_bilheteria_id                   object\ncodigo_gateway                        object\nnsu_host                              object\nnsu_sitef                             object\npaypal_id                             object\nnumero_autorizacao_adquirente         object\ndata_compra                           object\nquantidade_ingressos                   int32\nbandeira                              object\ntipo_cartao                           object\nnome_forma_pagamento                  object\nvalor_taxa_conveniencia_total        float64\nvalor_taxa_entrega_total             float64\nvalor_juros_total                    float64\nvalor_ingressos_ativos_total         float64\nvalor_compra_original_total          float64\nnumero_parcelas                        int32\nnumero_cartao                         object\nnome_portador_cartao                  object\nstatus_compra                         object\nnome_comprador                        object\nemail_comprador                       object\nfacebook_id                           object\ncpf_comprador                         object\ntelefone_comprador                    object\nid_usuario                            object\nip_comprador                          object\nplataforma_utilizada                  object\nid_produtor_evento                    object\nnome_produtor_evento                  object\nnome_evento                           object\nid_evento                             object\ndata_evento                           object\nnome_local                            object\ntipo_evento                           object\nnota_fiscal_estabelecimento_sitef     object\ndata_venda_completa                   object\nnomes_precos_ingressos_unicos         object\ndtype: object"
      ]
     },
     "execution_count": 53,
     "metadata": {},
     "output_type": "execute_result"
    }
   ],
   "source": [
    "df_v1.dtypes"
   ]
  },
  {
   "cell_type": "code",
   "execution_count": 55,
   "metadata": {},
   "outputs": [
    {
     "data": {
      "text/plain": [
       "0     200.0\n1       9.0\n2       4.0\n3       8.0\n4      15.0\n5       6.0\n6      12.0\n7       8.0\n8      13.5\n9      24.0\n10     40.0\n11      9.0\n12      7.0\n13     10.0\n14     15.0\n15      5.0\n16     12.0\n17     10.0\n18      7.0\n19     32.0\n20     27.0\n21      7.0\n22      4.0\n23     16.0\n24     13.5\n25     18.0\n26      9.0\n27     72.0\n28     30.0\n29     36.0\n      ...  \n70     18.0\n71     40.0\n72     40.0\n73      8.0\n74      8.0\n75      4.0\n76      3.0\n77      4.0\n78     22.0\n79      9.0\n80     18.0\n81      7.0\n82     12.0\n83     28.0\n84     45.0\n85     31.5\n86     21.0\n87     24.0\n88     20.0\n89      8.0\n90     10.0\n91     15.0\n92     40.0\n93     14.0\n94     20.0\n95     18.0\n96     10.5\n97     56.0\n98     14.0\n99     12.0\nName: valor_taxa_conveniencia_total, Length: 100, dtype: float64"
      ]
     },
     "execution_count": 55,
     "metadata": {},
     "output_type": "execute_result"
    }
   ],
   "source": [
    "df_v1['valor_taxa_conveniencia_total'].head(100)"
   ]
  },
  {
   "cell_type": "code",
   "execution_count": null,
   "metadata": {},
   "outputs": [],
   "source": []
  }
 ],
 "metadata": {
  "kernelspec": {
   "display_name": "Python 2",
   "language": "python",
   "name": "python2"
  },
  "language_info": {
   "codemirror_mode": {
    "name": "ipython",
    "version": 2
   },
   "file_extension": ".py",
   "mimetype": "text/x-python",
   "name": "python",
   "nbconvert_exporter": "python",
   "pygments_lexer": "ipython2",
   "version": "2.7.6"
  }
 },
 "nbformat": 4,
 "nbformat_minor": 0
}
