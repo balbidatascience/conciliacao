{
 "cells": [
  {
   "cell_type": "code",
   "execution_count": 19,
   "metadata": {
    "collapsed": true
   },
   "outputs": [],
   "source": [
    "import pandas as pd\n",
    "import numpy as np\n",
    "import matplotlib as plt\n",
    "%matplotlib inline"
   ]
  },
  {
   "cell_type": "code",
   "execution_count": 102,
   "metadata": {},
   "outputs": [],
   "source": [
    "df = pd.read_csv('dados/IR-20170731-000000360.txt', header=None, delimiter=';', dtype='object', parse_dates=[2,8,25])"
   ]
  },
  {
   "cell_type": "code",
   "execution_count": 103,
   "metadata": {
    "collapsed": true
   },
   "outputs": [
    {
     "data": {
      "text/plain": [
       "0             object\n1             object\n2     datetime64[ns]\n3             object\n4             object\n5             object\n6             object\n7             object\n8     datetime64[ns]\n9             object\n10            object\n11            object\n12            object\n13            object\n14            object\n15            object\n16            object\n17            object\n18            object\n19            object\n20            object\n21            object\n22            object\n23            object\n24            object\n25    datetime64[ns]\n26            object\n27            object\n28            object\n29            object\ndtype: object"
      ]
     },
     "execution_count": 103,
     "metadata": {},
     "output_type": "execute_result"
    }
   ],
   "source": [
    "df.dtypes"
   ]
  },
  {
   "cell_type": "code",
   "execution_count": 104,
   "metadata": {},
   "outputs": [],
   "source": [
    "#Renomeando colunas\n",
    "#df.columns = ['Id', '1', 'DataArquivo', '3', '4', 'ProdutoPag', 'TipoProduto', 'NumCartao','DataVenda','9', '10', '11','12','13','14', '15','16','17','18', '19','20','21', '22', '23', \n",
    "#              'NomeEspetaculo','DataSessao', '26', '27','GatewayPag','CodPedido']\n",
    "\n",
    "df.columns = ['NSR', 'NSA', 'DataArquivo', 'Loja', 'Terminal', 'Bandeira', 'TipoVenda', 'NumeroCartao', 'DataVenda', 'Pedido', \n",
    "            'Cupom', 'NSU', 'CodigoAutorizacao', 'TID', 'LoteAdquirente', 'DocumentoCliente', 'NomeCliente', 'QtdeParcelas', 'ValorParcela', \n",
    "            'ValorVenda', 'ValorAdicional1', 'ValorAdicional2', 'TipoTransacao', 'idEvento', 'dsEvento', 'dtApresentacao', 'QtdIngresso', 'Troca', \n",
    "              'PaymentGateway', 'PSP']"
   ]
  },
  {
   "cell_type": "code",
   "execution_count": 105,
   "metadata": {},
   "outputs": [],
   "source": [
    "#Convert para int\n",
    "df['NSR'] = df['NSR'].astype(int)\n",
    "df['QtdeParcelas'] = df['QtdeParcelas'].astype(int)\n",
    "df['QtdIngresso'] = df['QtdIngresso'].astype(int)\n",
    "\n"
   ]
  },
  {
   "cell_type": "code",
   "execution_count": 106,
   "metadata": {
    "collapsed": true
   },
   "outputs": [
    {
     "ename": "TypeError",
     "evalue": "'float' object is not subscriptable",
     "traceback": [
      "\u001b[0;31m---------------------------------------------------------------------------\u001b[0m",
      "\u001b[0;31mTypeError\u001b[0m                                 Traceback (most recent call last)",
      "\u001b[0;32m<ipython-input-106-436bb70180ba>\u001b[0m in \u001b[0;36m<module>\u001b[0;34m()\u001b[0m\n\u001b[1;32m      7\u001b[0m \u001b[0mdf\u001b[0m\u001b[1;33m[\u001b[0m\u001b[1;34m'ValorParcela'\u001b[0m\u001b[1;33m]\u001b[0m \u001b[1;33m=\u001b[0m \u001b[0mlist\u001b[0m\u001b[1;33m(\u001b[0m\u001b[0mmap\u001b[0m\u001b[1;33m(\u001b[0m\u001b[0mToDecimal\u001b[0m\u001b[1;33m,\u001b[0m \u001b[0mdf\u001b[0m\u001b[1;33m[\u001b[0m\u001b[1;34m'ValorParcela'\u001b[0m\u001b[1;33m]\u001b[0m\u001b[1;33m)\u001b[0m\u001b[1;33m)\u001b[0m\u001b[1;33m\u001b[0m\u001b[0m\n\u001b[1;32m      8\u001b[0m \u001b[0mdf\u001b[0m\u001b[1;33m[\u001b[0m\u001b[1;34m'ValorVenda'\u001b[0m\u001b[1;33m]\u001b[0m \u001b[1;33m=\u001b[0m \u001b[0mlist\u001b[0m\u001b[1;33m(\u001b[0m\u001b[0mmap\u001b[0m\u001b[1;33m(\u001b[0m\u001b[0mToDecimal\u001b[0m\u001b[1;33m,\u001b[0m \u001b[0mdf\u001b[0m\u001b[1;33m[\u001b[0m\u001b[1;34m'ValorVenda'\u001b[0m\u001b[1;33m]\u001b[0m\u001b[1;33m)\u001b[0m\u001b[1;33m)\u001b[0m\u001b[1;33m\u001b[0m\u001b[0m\n\u001b[0;32m----> 9\u001b[0;31m \u001b[0mdf\u001b[0m\u001b[1;33m[\u001b[0m\u001b[1;34m'ValorAdicional1'\u001b[0m\u001b[1;33m]\u001b[0m \u001b[1;33m=\u001b[0m \u001b[0mlist\u001b[0m\u001b[1;33m(\u001b[0m\u001b[0mmap\u001b[0m\u001b[1;33m(\u001b[0m\u001b[0mToDecimal\u001b[0m\u001b[1;33m,\u001b[0m \u001b[0mdf\u001b[0m\u001b[1;33m[\u001b[0m\u001b[1;34m'ValorAdicional1'\u001b[0m\u001b[1;33m]\u001b[0m\u001b[1;33m)\u001b[0m\u001b[1;33m)\u001b[0m\u001b[1;33m\u001b[0m\u001b[0m\n\u001b[0m\u001b[1;32m     10\u001b[0m \u001b[0mdf\u001b[0m\u001b[1;33m[\u001b[0m\u001b[1;34m'ValorAdicional2'\u001b[0m\u001b[1;33m]\u001b[0m \u001b[1;33m=\u001b[0m \u001b[0mlist\u001b[0m\u001b[1;33m(\u001b[0m\u001b[0mmap\u001b[0m\u001b[1;33m(\u001b[0m\u001b[0mToDecimal\u001b[0m\u001b[1;33m,\u001b[0m \u001b[0mdf\u001b[0m\u001b[1;33m[\u001b[0m\u001b[1;34m'ValorAdicional2'\u001b[0m\u001b[1;33m]\u001b[0m\u001b[1;33m)\u001b[0m\u001b[1;33m)\u001b[0m\u001b[1;33m\u001b[0m\u001b[0m\n\u001b[1;32m     11\u001b[0m \u001b[1;33m\u001b[0m\u001b[0m\n",
      "\u001b[0;32m<ipython-input-106-436bb70180ba>\u001b[0m in \u001b[0;36mToDecimal\u001b[0;34m(string)\u001b[0m\n\u001b[1;32m      1\u001b[0m \u001b[1;31m#Convert para decimal\u001b[0m\u001b[1;33m\u001b[0m\u001b[1;33m\u001b[0m\u001b[0m\n\u001b[1;32m      2\u001b[0m \u001b[1;32mdef\u001b[0m \u001b[0mToDecimal\u001b[0m\u001b[1;33m(\u001b[0m\u001b[0mstring\u001b[0m\u001b[1;33m)\u001b[0m\u001b[1;33m:\u001b[0m\u001b[1;33m\u001b[0m\u001b[0m\n\u001b[0;32m----> 3\u001b[0;31m     \u001b[1;32mreturn\u001b[0m \u001b[0mfloat\u001b[0m\u001b[1;33m(\u001b[0m\u001b[0mstring\u001b[0m\u001b[1;33m[\u001b[0m\u001b[1;33m:\u001b[0m\u001b[1;33m-\u001b[0m\u001b[1;36m2\u001b[0m\u001b[1;33m]\u001b[0m \u001b[1;33m+\u001b[0m \u001b[1;34m\".\"\u001b[0m \u001b[1;33m+\u001b[0m \u001b[0mstring\u001b[0m\u001b[1;33m[\u001b[0m\u001b[1;33m-\u001b[0m\u001b[1;36m2\u001b[0m\u001b[1;33m:\u001b[0m\u001b[1;33m]\u001b[0m\u001b[1;33m)\u001b[0m\u001b[1;33m\u001b[0m\u001b[0m\n\u001b[0m\u001b[1;32m      4\u001b[0m \u001b[1;33m\u001b[0m\u001b[0m\n\u001b[1;32m      5\u001b[0m \u001b[1;33m\u001b[0m\u001b[0m\n",
      "\u001b[0;31mTypeError\u001b[0m: 'float' object is not subscriptable"
     ],
     "output_type": "error"
    }
   ],
   "source": [
    "#Convert para decimal\n",
    "def ToDecimal(string):\n",
    "    return float(string[:-2] + \".\" + string[-2:])\n",
    "\n",
    "\n",
    "df['ValorAdicional1'].fillna(0)\n",
    "df['ValorParcela'] = list(map(ToDecimal, df['ValorParcela']))\n",
    "df['ValorVenda'] = list(map(ToDecimal, df['ValorVenda']))\n",
    "df['ValorAdicional1'] = list(map(ToDecimal, df['ValorAdicional1']))\n",
    "df['ValorAdicional2'] = list(map(ToDecimal, df['ValorAdicional2']))\n",
    "\n"
   ]
  },
  {
   "cell_type": "code",
   "execution_count": 92,
   "metadata": {
    "collapsed": true
   },
   "outputs": [
    {
     "ename": "TypeError",
     "evalue": "'float' object is not subscriptable",
     "traceback": [
      "\u001b[0;31m---------------------------------------------------------------------------\u001b[0m",
      "\u001b[0;31mTypeError\u001b[0m                                 Traceback (most recent call last)",
      "\u001b[0;32m<ipython-input-106-436bb70180ba>\u001b[0m in \u001b[0;36m<module>\u001b[0;34m()\u001b[0m\n\u001b[1;32m      7\u001b[0m \u001b[0mdf\u001b[0m\u001b[1;33m[\u001b[0m\u001b[1;34m'ValorParcela'\u001b[0m\u001b[1;33m]\u001b[0m \u001b[1;33m=\u001b[0m \u001b[0mlist\u001b[0m\u001b[1;33m(\u001b[0m\u001b[0mmap\u001b[0m\u001b[1;33m(\u001b[0m\u001b[0mToDecimal\u001b[0m\u001b[1;33m,\u001b[0m \u001b[0mdf\u001b[0m\u001b[1;33m[\u001b[0m\u001b[1;34m'ValorParcela'\u001b[0m\u001b[1;33m]\u001b[0m\u001b[1;33m)\u001b[0m\u001b[1;33m)\u001b[0m\u001b[1;33m\u001b[0m\u001b[0m\n\u001b[1;32m      8\u001b[0m \u001b[0mdf\u001b[0m\u001b[1;33m[\u001b[0m\u001b[1;34m'ValorVenda'\u001b[0m\u001b[1;33m]\u001b[0m \u001b[1;33m=\u001b[0m \u001b[0mlist\u001b[0m\u001b[1;33m(\u001b[0m\u001b[0mmap\u001b[0m\u001b[1;33m(\u001b[0m\u001b[0mToDecimal\u001b[0m\u001b[1;33m,\u001b[0m \u001b[0mdf\u001b[0m\u001b[1;33m[\u001b[0m\u001b[1;34m'ValorVenda'\u001b[0m\u001b[1;33m]\u001b[0m\u001b[1;33m)\u001b[0m\u001b[1;33m)\u001b[0m\u001b[1;33m\u001b[0m\u001b[0m\n\u001b[0;32m----> 9\u001b[0;31m \u001b[0mdf\u001b[0m\u001b[1;33m[\u001b[0m\u001b[1;34m'ValorAdicional1'\u001b[0m\u001b[1;33m]\u001b[0m \u001b[1;33m=\u001b[0m \u001b[0mlist\u001b[0m\u001b[1;33m(\u001b[0m\u001b[0mmap\u001b[0m\u001b[1;33m(\u001b[0m\u001b[0mToDecimal\u001b[0m\u001b[1;33m,\u001b[0m \u001b[0mdf\u001b[0m\u001b[1;33m[\u001b[0m\u001b[1;34m'ValorAdicional1'\u001b[0m\u001b[1;33m]\u001b[0m\u001b[1;33m)\u001b[0m\u001b[1;33m)\u001b[0m\u001b[1;33m\u001b[0m\u001b[0m\n\u001b[0m\u001b[1;32m     10\u001b[0m \u001b[0mdf\u001b[0m\u001b[1;33m[\u001b[0m\u001b[1;34m'ValorAdicional2'\u001b[0m\u001b[1;33m]\u001b[0m \u001b[1;33m=\u001b[0m \u001b[0mlist\u001b[0m\u001b[1;33m(\u001b[0m\u001b[0mmap\u001b[0m\u001b[1;33m(\u001b[0m\u001b[0mToDecimal\u001b[0m\u001b[1;33m,\u001b[0m \u001b[0mdf\u001b[0m\u001b[1;33m[\u001b[0m\u001b[1;34m'ValorAdicional2'\u001b[0m\u001b[1;33m]\u001b[0m\u001b[1;33m)\u001b[0m\u001b[1;33m)\u001b[0m\u001b[1;33m\u001b[0m\u001b[0m\n\u001b[1;32m     11\u001b[0m \u001b[1;33m\u001b[0m\u001b[0m\n",
      "\u001b[0;32m<ipython-input-106-436bb70180ba>\u001b[0m in \u001b[0;36mToDecimal\u001b[0;34m(string)\u001b[0m\n\u001b[1;32m      1\u001b[0m \u001b[1;31m#Convert para decimal\u001b[0m\u001b[1;33m\u001b[0m\u001b[1;33m\u001b[0m\u001b[0m\n\u001b[1;32m      2\u001b[0m \u001b[1;32mdef\u001b[0m \u001b[0mToDecimal\u001b[0m\u001b[1;33m(\u001b[0m\u001b[0mstring\u001b[0m\u001b[1;33m)\u001b[0m\u001b[1;33m:\u001b[0m\u001b[1;33m\u001b[0m\u001b[0m\n\u001b[0;32m----> 3\u001b[0;31m     \u001b[1;32mreturn\u001b[0m \u001b[0mfloat\u001b[0m\u001b[1;33m(\u001b[0m\u001b[0mstring\u001b[0m\u001b[1;33m[\u001b[0m\u001b[1;33m:\u001b[0m\u001b[1;33m-\u001b[0m\u001b[1;36m2\u001b[0m\u001b[1;33m]\u001b[0m \u001b[1;33m+\u001b[0m \u001b[1;34m\".\"\u001b[0m \u001b[1;33m+\u001b[0m \u001b[0mstring\u001b[0m\u001b[1;33m[\u001b[0m\u001b[1;33m-\u001b[0m\u001b[1;36m2\u001b[0m\u001b[1;33m:\u001b[0m\u001b[1;33m]\u001b[0m\u001b[1;33m)\u001b[0m\u001b[1;33m\u001b[0m\u001b[0m\n\u001b[0m\u001b[1;32m      4\u001b[0m \u001b[1;33m\u001b[0m\u001b[0m\n\u001b[1;32m      5\u001b[0m \u001b[1;33m\u001b[0m\u001b[0m\n",
      "\u001b[0;31mTypeError\u001b[0m: 'float' object is not subscriptable"
     ],
     "output_type": "error"
    }
   ],
   "source": [
    "df['ValorParcela']\n",
    "\n",
    "#df['ValorParcela'][0][:-2] + \".\" + df['ValorParcela'][0][-2:]\n",
    "#[df['ValorParcela'][0][:-2] + \".\" + df['ValorParcela'][0][-2:] for x in df['ValorParcela']]\n"
   ]
  },
  {
   "cell_type": "code",
   "execution_count": 29,
   "metadata": {
    "collapsed": true
   },
   "outputs": [
    {
     "data": {
      "text/html": [
       "<div>\n",
       "<table border=\"1\" class=\"dataframe\">\n",
       "  <thead>\n",
       "    <tr style=\"text-align: right;\">\n",
       "      <th></th>\n",
       "      <th>NSR</th>\n",
       "    </tr>\n",
       "    <tr>\n",
       "      <th>Bandeira</th>\n",
       "      <th></th>\n",
       "    </tr>\n",
       "  </thead>\n",
       "  <tbody>\n",
       "    <tr>\n",
       "      <th>American Express</th>\n",
       "      <td>172</td>\n",
       "    </tr>\n",
       "    <tr>\n",
       "      <th>Diners</th>\n",
       "      <td>2</td>\n",
       "    </tr>\n",
       "    <tr>\n",
       "      <th>Diners Club</th>\n",
       "      <td>8</td>\n",
       "    </tr>\n",
       "    <tr>\n",
       "      <th>Débito</th>\n",
       "      <td>806</td>\n",
       "    </tr>\n",
       "    <tr>\n",
       "      <th>ELO DEBIT</th>\n",
       "      <td>89</td>\n",
       "    </tr>\n",
       "    <tr>\n",
       "      <th>Elo</th>\n",
       "      <td>69</td>\n",
       "    </tr>\n",
       "    <tr>\n",
       "      <th>Hipercard</th>\n",
       "      <td>51</td>\n",
       "    </tr>\n",
       "    <tr>\n",
       "      <th>Maestro</th>\n",
       "      <td>138</td>\n",
       "    </tr>\n",
       "    <tr>\n",
       "      <th>MasterCard</th>\n",
       "      <td>718</td>\n",
       "    </tr>\n",
       "    <tr>\n",
       "      <th>Mastercard</th>\n",
       "      <td>1534</td>\n",
       "    </tr>\n",
       "    <tr>\n",
       "      <th>PayPal</th>\n",
       "      <td>12</td>\n",
       "    </tr>\n",
       "    <tr>\n",
       "      <th>Vale+Cultura Ticket</th>\n",
       "      <td>1</td>\n",
       "    </tr>\n",
       "    <tr>\n",
       "      <th>Visa</th>\n",
       "      <td>2114</td>\n",
       "    </tr>\n",
       "    <tr>\n",
       "      <th>Visa Electron</th>\n",
       "      <td>127</td>\n",
       "    </tr>\n",
       "  </tbody>\n",
       "</table>\n",
       "</div>"
      ],
      "text/plain": [
       "<div>\n",
       "<table border=\"1\" class=\"dataframe\">\n",
       "  <thead>\n",
       "    <tr style=\"text-align: right;\">\n",
       "      <th></th>\n",
       "      <th>NSR</th>\n",
       "    </tr>\n",
       "    <tr>\n",
       "      <th>Bandeira</th>\n",
       "      <th></th>\n",
       "    </tr>\n",
       "  </thead>\n",
       "  <tbody>\n",
       "    <tr>\n",
       "      <th>American Express</th>\n",
       "      <td>172</td>\n",
       "    </tr>\n",
       "    <tr>\n",
       "      <th>Diners</th>\n",
       "      <td>2</td>\n",
       "    </tr>\n",
       "    <tr>\n",
       "      <th>Diners Club</th>\n",
       "      <td>8</td>\n",
       "    </tr>\n",
       "    <tr>\n",
       "      <th>Débito</th>\n",
       "      <td>806</td>\n",
       "    </tr>\n",
       "    <tr>\n",
       "      <th>ELO DEBIT</th>\n",
       "      <td>89</td>\n",
       "    </tr>\n",
       "    <tr>\n",
       "      <th>Elo</th>\n",
       "      <td>69</td>\n",
       "    </tr>\n",
       "    <tr>\n",
       "      <th>Hipercard</th>\n",
       "      <td>51</td>\n",
       "    </tr>\n",
       "    <tr>\n",
       "      <th>Maestro</th>\n",
       "      <td>138</td>\n",
       "    </tr>\n",
       "    <tr>\n",
       "      <th>MasterCard</th>\n",
       "      <td>718</td>\n",
       "    </tr>\n",
       "    <tr>\n",
       "      <th>Mastercard</th>\n",
       "      <td>1534</td>\n",
       "    </tr>\n",
       "    <tr>\n",
       "      <th>PayPal</th>\n",
       "      <td>12</td>\n",
       "    </tr>\n",
       "    <tr>\n",
       "      <th>Vale+Cultura Ticket</th>\n",
       "      <td>1</td>\n",
       "    </tr>\n",
       "    <tr>\n",
       "      <th>Visa</th>\n",
       "      <td>2114</td>\n",
       "    </tr>\n",
       "    <tr>\n",
       "      <th>Visa Electron</th>\n",
       "      <td>127</td>\n",
       "    </tr>\n",
       "  </tbody>\n",
       "</table>\n",
       "</div>"
      ]
     },
     "execution_count": 29,
     "metadata": {},
     "output_type": "execute_result"
    }
   ],
   "source": [
    "#Agrupamento\n",
    "df.groupby('Bandeira').count()[['NSR']]\n"
   ]
  },
  {
   "cell_type": "code",
   "execution_count": 36,
   "metadata": {
    "collapsed": true
   },
   "outputs": [
    {
     "name": "stdout",
     "output_type": "stream",
     "text": [
      "['SITEF' 'Adyen' 'MundiPagg' nan 'PayPal']\n"
     ]
    }
   ],
   "source": [
    "#Filtro \n",
    "print(df['PaymentGateway'].unique())"
   ]
  },
  {
   "cell_type": "code",
   "execution_count": 242,
   "metadata": {},
   "outputs": [],
   "source": [
    "#Transformando valores null\n",
    "#df[df['TipoProduto'].str.contains('CREDITO')]\n",
    "df['TipoProduto'].fillna('Nao Informado', inplace=True) \n",
    "#df.groupby(by='TipoProduto').count()[['Id']]"
   ]
  },
  {
   "cell_type": "code",
   "execution_count": 17,
   "metadata": {
    "collapsed": true
   },
   "outputs": [
    {
     "data": {
      "text/plain": [
       "0                    NaN\n1                    NaN\n2                    NaN\n3       4615014660339111\n4       1515014503581009\n5                    NaN\n6       1515014347941971\n7       4715013826773675\n8       1515014424956645\n9       1315014372257139\n10      4415014405603658\n11      1815013870753453\n12      4615014311620430\n13                   NaN\n14      4615014391098986\n15      4315014449256431\n16                   NaN\n17      1615014595927705\n18                   NaN\n19      4615014236548351\n20      4815014581840617\n21      1415014336047104\n22      1815014475814351\n23      1715014563218011\n24      4415014586051404\n25      4815014376333737\n26      4815014312208324\n27      1315014618741706\n28                   NaN\n29      1715014618268565\n              ...       \n5811                 NaN\n5812                 NaN\n5813                 NaN\n5814                 NaN\n5815                 NaN\n5816                 NaN\n5817                 NaN\n5818                 NaN\n5819                 NaN\n5820                 NaN\n5821                 NaN\n5822                 NaN\n5823                 NaN\n5824                 NaN\n5825                 NaN\n5826                 NaN\n5827    1415014199940114\n5828    1715014244289175\n5829    1815014562800933\n5830    1815014562800933\n5831    4715014415260892\n5832    4815014594058173\n5833    1815014624301565\n5834    4615014605142653\n5835    1415014353705360\n5836    1615014338553206\n5837    1315014239622301\n5838    4715014271655490\n5839    4515014494563275\n5840    1415014283220480\nName: 13, dtype: object"
      ]
     },
     "execution_count": 17,
     "metadata": {},
     "output_type": "execute_result"
    }
   ],
   "source": [
    "#Rascunho\n",
    "df['13']\n",
    "#df['13'].fillna('Não Informado', inplace=True)"
   ]
  },
  {
   "cell_type": "code",
   "execution_count": 228,
   "metadata": {
    "collapsed": true
   },
   "outputs": [
    {
     "data": {
      "text/html": [
       "<div>\n",
       "<table border=\"1\" class=\"dataframe\">\n",
       "  <thead>\n",
       "    <tr style=\"text-align: right;\">\n",
       "      <th></th>\n",
       "      <th>Id</th>\n",
       "      <th>1</th>\n",
       "      <th>DataArquivo</th>\n",
       "      <th>3</th>\n",
       "      <th>4</th>\n",
       "      <th>ProdutoPag</th>\n",
       "      <th>TipoProduto</th>\n",
       "      <th>NumCartao</th>\n",
       "      <th>DataVenda</th>\n",
       "      <th>9</th>\n",
       "      <th>...</th>\n",
       "      <th>20</th>\n",
       "      <th>21</th>\n",
       "      <th>22</th>\n",
       "      <th>23</th>\n",
       "      <th>NomeEspetaculo</th>\n",
       "      <th>DataSessao</th>\n",
       "      <th>26</th>\n",
       "      <th>27</th>\n",
       "      <th>GatewayPag</th>\n",
       "      <th>CodPedido</th>\n",
       "    </tr>\n",
       "  </thead>\n",
       "  <tbody>\n",
       "    <tr>\n",
       "      <th>68</th>\n",
       "      <td>69</td>\n",
       "      <td>401</td>\n",
       "      <td>20170808</td>\n",
       "      <td>0</td>\n",
       "      <td>0</td>\n",
       "      <td>American Express</td>\n",
       "      <td>CREDITO</td>\n",
       "      <td>371561*****6002</td>\n",
       "      <td>20170730</td>\n",
       "      <td>9821070325</td>\n",
       "      <td>...</td>\n",
       "      <td>NaN</td>\n",
       "      <td>0</td>\n",
       "      <td>V</td>\n",
       "      <td>56851</td>\n",
       "      <td>MASP - FÉRIAS | Julho aberto de segunda a segunda</td>\n",
       "      <td>30/07/2017 17:30:00</td>\n",
       "      <td>3</td>\n",
       "      <td>0</td>\n",
       "      <td>SITEF</td>\n",
       "      <td>20170730/300184/815982</td>\n",
       "    </tr>\n",
       "    <tr>\n",
       "      <th>69</th>\n",
       "      <td>70</td>\n",
       "      <td>401</td>\n",
       "      <td>20170808</td>\n",
       "      <td>0</td>\n",
       "      <td>0</td>\n",
       "      <td>American Express</td>\n",
       "      <td>CREDITO</td>\n",
       "      <td>374758XXXXXX2014</td>\n",
       "      <td>20170730</td>\n",
       "      <td>4321074884</td>\n",
       "      <td>...</td>\n",
       "      <td>NaN</td>\n",
       "      <td>0</td>\n",
       "      <td>V</td>\n",
       "      <td>58666</td>\n",
       "      <td>Cantando na Chuva</td>\n",
       "      <td>17/09/2017 16:00:00</td>\n",
       "      <td>4</td>\n",
       "      <td>0</td>\n",
       "      <td>MundiPagg</td>\n",
       "      <td>dc4f8c3f-f815-4134-97cd-9ee6e7ef9281</td>\n",
       "    </tr>\n",
       "    <tr>\n",
       "      <th>70</th>\n",
       "      <td>71</td>\n",
       "      <td>401</td>\n",
       "      <td>20170808</td>\n",
       "      <td>0</td>\n",
       "      <td>0</td>\n",
       "      <td>American Express</td>\n",
       "      <td>CREDITO</td>\n",
       "      <td>374762*****2926</td>\n",
       "      <td>20170730</td>\n",
       "      <td>5721072684</td>\n",
       "      <td>...</td>\n",
       "      <td>NaN</td>\n",
       "      <td>0</td>\n",
       "      <td>V</td>\n",
       "      <td>58785</td>\n",
       "      <td>O APRENDIZ DE FEITICEIRO</td>\n",
       "      <td>30/07/2017 17:00:00</td>\n",
       "      <td>4</td>\n",
       "      <td>0</td>\n",
       "      <td>SITEF</td>\n",
       "      <td>20170730/300123/604044</td>\n",
       "    </tr>\n",
       "    <tr>\n",
       "      <th>71</th>\n",
       "      <td>72</td>\n",
       "      <td>401</td>\n",
       "      <td>20170808</td>\n",
       "      <td>0</td>\n",
       "      <td>0</td>\n",
       "      <td>American Express</td>\n",
       "      <td>CREDITO</td>\n",
       "      <td>374762XXXXXX1916</td>\n",
       "      <td>20170730</td>\n",
       "      <td>2821070598</td>\n",
       "      <td>...</td>\n",
       "      <td>NaN</td>\n",
       "      <td>0</td>\n",
       "      <td>V</td>\n",
       "      <td>59047</td>\n",
       "      <td>RENATO E SEUS BLUE CAPS</td>\n",
       "      <td>19/08/2017 21:00:00</td>\n",
       "      <td>2</td>\n",
       "      <td>0</td>\n",
       "      <td>MundiPagg</td>\n",
       "      <td>ce82dab6-da68-4be4-9cb6-7d671d929a25</td>\n",
       "    </tr>\n",
       "    <tr>\n",
       "      <th>72</th>\n",
       "      <td>73</td>\n",
       "      <td>401</td>\n",
       "      <td>20170808</td>\n",
       "      <td>0</td>\n",
       "      <td>0</td>\n",
       "      <td>American Express</td>\n",
       "      <td>CREDITO</td>\n",
       "      <td>374768XXXXXX5988</td>\n",
       "      <td>20170730</td>\n",
       "      <td>4521075058</td>\n",
       "      <td>...</td>\n",
       "      <td>NaN</td>\n",
       "      <td>0</td>\n",
       "      <td>V</td>\n",
       "      <td>58666</td>\n",
       "      <td>Cantando na Chuva</td>\n",
       "      <td>17/09/2017 16:00:00</td>\n",
       "      <td>2</td>\n",
       "      <td>0</td>\n",
       "      <td>MundiPagg</td>\n",
       "      <td>d63e4c98-6b8f-482d-be16-529d1a8d9083</td>\n",
       "    </tr>\n",
       "  </tbody>\n",
       "</table>\n",
       "<p>5 rows × 30 columns</p>\n",
       "</div>"
      ],
      "text/plain": [
       "<div>\n",
       "<table border=\"1\" class=\"dataframe\">\n",
       "  <thead>\n",
       "    <tr style=\"text-align: right;\">\n",
       "      <th></th>\n",
       "      <th>Id</th>\n",
       "      <th>1</th>\n",
       "      <th>DataArquivo</th>\n",
       "      <th>3</th>\n",
       "      <th>4</th>\n",
       "      <th>ProdutoPag</th>\n",
       "      <th>TipoProduto</th>\n",
       "      <th>NumCartao</th>\n",
       "      <th>DataVenda</th>\n",
       "      <th>9</th>\n",
       "      <th>...</th>\n",
       "      <th>20</th>\n",
       "      <th>21</th>\n",
       "      <th>22</th>\n",
       "      <th>23</th>\n",
       "      <th>NomeEspetaculo</th>\n",
       "      <th>DataSessao</th>\n",
       "      <th>26</th>\n",
       "      <th>27</th>\n",
       "      <th>GatewayPag</th>\n",
       "      <th>CodPedido</th>\n",
       "    </tr>\n",
       "  </thead>\n",
       "  <tbody>\n",
       "    <tr>\n",
       "      <th>68</th>\n",
       "      <td>69</td>\n",
       "      <td>401</td>\n",
       "      <td>20170808</td>\n",
       "      <td>0</td>\n",
       "      <td>0</td>\n",
       "      <td>American Express</td>\n",
       "      <td>CREDITO</td>\n",
       "      <td>371561*****6002</td>\n",
       "      <td>20170730</td>\n",
       "      <td>9821070325</td>\n",
       "      <td>...</td>\n",
       "      <td>NaN</td>\n",
       "      <td>0</td>\n",
       "      <td>V</td>\n",
       "      <td>56851</td>\n",
       "      <td>MASP - FÉRIAS | Julho aberto de segunda a segunda</td>\n",
       "      <td>30/07/2017 17:30:00</td>\n",
       "      <td>3</td>\n",
       "      <td>0</td>\n",
       "      <td>SITEF</td>\n",
       "      <td>20170730/300184/815982</td>\n",
       "    </tr>\n",
       "    <tr>\n",
       "      <th>69</th>\n",
       "      <td>70</td>\n",
       "      <td>401</td>\n",
       "      <td>20170808</td>\n",
       "      <td>0</td>\n",
       "      <td>0</td>\n",
       "      <td>American Express</td>\n",
       "      <td>CREDITO</td>\n",
       "      <td>374758XXXXXX2014</td>\n",
       "      <td>20170730</td>\n",
       "      <td>4321074884</td>\n",
       "      <td>...</td>\n",
       "      <td>NaN</td>\n",
       "      <td>0</td>\n",
       "      <td>V</td>\n",
       "      <td>58666</td>\n",
       "      <td>Cantando na Chuva</td>\n",
       "      <td>17/09/2017 16:00:00</td>\n",
       "      <td>4</td>\n",
       "      <td>0</td>\n",
       "      <td>MundiPagg</td>\n",
       "      <td>dc4f8c3f-f815-4134-97cd-9ee6e7ef9281</td>\n",
       "    </tr>\n",
       "    <tr>\n",
       "      <th>70</th>\n",
       "      <td>71</td>\n",
       "      <td>401</td>\n",
       "      <td>20170808</td>\n",
       "      <td>0</td>\n",
       "      <td>0</td>\n",
       "      <td>American Express</td>\n",
       "      <td>CREDITO</td>\n",
       "      <td>374762*****2926</td>\n",
       "      <td>20170730</td>\n",
       "      <td>5721072684</td>\n",
       "      <td>...</td>\n",
       "      <td>NaN</td>\n",
       "      <td>0</td>\n",
       "      <td>V</td>\n",
       "      <td>58785</td>\n",
       "      <td>O APRENDIZ DE FEITICEIRO</td>\n",
       "      <td>30/07/2017 17:00:00</td>\n",
       "      <td>4</td>\n",
       "      <td>0</td>\n",
       "      <td>SITEF</td>\n",
       "      <td>20170730/300123/604044</td>\n",
       "    </tr>\n",
       "    <tr>\n",
       "      <th>71</th>\n",
       "      <td>72</td>\n",
       "      <td>401</td>\n",
       "      <td>20170808</td>\n",
       "      <td>0</td>\n",
       "      <td>0</td>\n",
       "      <td>American Express</td>\n",
       "      <td>CREDITO</td>\n",
       "      <td>374762XXXXXX1916</td>\n",
       "      <td>20170730</td>\n",
       "      <td>2821070598</td>\n",
       "      <td>...</td>\n",
       "      <td>NaN</td>\n",
       "      <td>0</td>\n",
       "      <td>V</td>\n",
       "      <td>59047</td>\n",
       "      <td>RENATO E SEUS BLUE CAPS</td>\n",
       "      <td>19/08/2017 21:00:00</td>\n",
       "      <td>2</td>\n",
       "      <td>0</td>\n",
       "      <td>MundiPagg</td>\n",
       "      <td>ce82dab6-da68-4be4-9cb6-7d671d929a25</td>\n",
       "    </tr>\n",
       "    <tr>\n",
       "      <th>72</th>\n",
       "      <td>73</td>\n",
       "      <td>401</td>\n",
       "      <td>20170808</td>\n",
       "      <td>0</td>\n",
       "      <td>0</td>\n",
       "      <td>American Express</td>\n",
       "      <td>CREDITO</td>\n",
       "      <td>374768XXXXXX5988</td>\n",
       "      <td>20170730</td>\n",
       "      <td>4521075058</td>\n",
       "      <td>...</td>\n",
       "      <td>NaN</td>\n",
       "      <td>0</td>\n",
       "      <td>V</td>\n",
       "      <td>58666</td>\n",
       "      <td>Cantando na Chuva</td>\n",
       "      <td>17/09/2017 16:00:00</td>\n",
       "      <td>2</td>\n",
       "      <td>0</td>\n",
       "      <td>MundiPagg</td>\n",
       "      <td>d63e4c98-6b8f-482d-be16-529d1a8d9083</td>\n",
       "    </tr>\n",
       "  </tbody>\n",
       "</table>\n",
       "<p>5 rows × 30 columns</p>\n",
       "</div>"
      ]
     },
     "execution_count": 228,
     "metadata": {},
     "output_type": "execute_result"
    }
   ],
   "source": [
    "df[df['TipoProduto'].str.contains('CREDITO')].head(5)"
   ]
  },
  {
   "cell_type": "code",
   "execution_count": 60,
   "metadata": {},
   "outputs": [],
   "source": [
    "df.to_csv('dados/VendasIR_v3.csv')"
   ]
  },
  {
   "cell_type": "code",
   "execution_count": 21,
   "metadata": {
    "collapsed": true
   },
   "outputs": [
    {
     "data": {
      "text/plain": [
       "13\n1315013839903483    1\n1315013841126081    1\n1315013857433686    1\n1315013862699198    1\n1315013911842989    1\n1315014176808954    1\n1315014188216576    1\n1315014198408619    1\n1315014224164756    1\n1315014231524562    1\n1315014239622301    2\n1315014243682093    1\n1315014245096573    1\n1315014245614425    1\n1315014255916231    1\n1315014262852643    1\n1315014265155903    1\n1315014266907757    1\n1315014267029841    1\n1315014278498076    1\n1315014279192405    1\n1315014287136170    1\n1315014298123134    1\n1315014298153677    1\n1315014305176968    1\n1315014338256399    1\n1315014339900227    1\n1315014344750302    1\n1315014346847221    1\n1315014351739859    1\n                   ..\n4815014553836932    1\n4815014555850550    1\n4815014571623122    1\n4815014572745056    1\n4815014577737439    1\n4815014578141367    1\n4815014581840617    1\n4815014588082957    1\n4815014594058173    2\n4815014600697063    1\n4815014602361171    1\n4815014609893408    1\n4815014613688950    1\n4815014617513196    1\n4815014617835763    1\n4815014630019932    1\n4815014636013111    1\n4815014644697699    1\n4815014645961904    1\n4815014647797850    1\n4815014648080090    1\n4815014651187345    1\n4815014651429168    1\n4815014656437174    1\n4815014657082813    1\n4815014660290080    1\n4815014668062457    1\n4815014685105305    1\n4815014693129313    1\n4815014697132735    1\nName: Id, dtype: int64"
      ]
     },
     "execution_count": 21,
     "metadata": {},
     "output_type": "execute_result"
    }
   ],
   "source": [
    "df['Id'].astype(int)\n",
    "df.groupby('13').count()['Id']"
   ]
  },
  {
   "cell_type": "code",
   "execution_count": null,
   "metadata": {},
   "outputs": [],
   "source": []
  }
 ],
 "metadata": {
  "kernelspec": {
   "display_name": "Python 2",
   "language": "python",
   "name": "python2"
  },
  "language_info": {
   "codemirror_mode": {
    "name": "ipython",
    "version": 2
   },
   "file_extension": ".py",
   "mimetype": "text/x-python",
   "name": "python",
   "nbconvert_exporter": "python",
   "pygments_lexer": "ipython2",
   "version": "2.7.6"
  }
 },
 "nbformat": 4,
 "nbformat_minor": 0
}
