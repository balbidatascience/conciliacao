{
 "cells": [
  {
   "cell_type": "code",
   "execution_count": 7,
   "metadata": {
    "collapsed": true
   },
   "outputs": [
    {
     "ename": "ModuleNotFoundError",
     "evalue": "No module named 'ConciliacaoVendas'",
     "traceback": [
      "\u001b[1;31m---------------------------------------------------------------------------\u001b[0m",
      "\u001b[1;31mModuleNotFoundError\u001b[0m                       Traceback (most recent call last)",
      "\u001b[1;32m<ipython-input-7-355a8dc35e3c>\u001b[0m in \u001b[0;36m<module>\u001b[1;34m()\u001b[0m\n\u001b[0;32m      5\u001b[0m \u001b[1;32mimport\u001b[0m \u001b[0mpyodbc\u001b[0m\u001b[1;33m\u001b[0m\u001b[0m\n\u001b[0;32m      6\u001b[0m \u001b[1;33m\u001b[0m\u001b[0m\n\u001b[1;32m----> 7\u001b[1;33m \u001b[1;32mimport\u001b[0m \u001b[0mConciliacaoVendas\u001b[0m\u001b[1;33m\u001b[0m\u001b[0m\n\u001b[0m",
      "\u001b[1;31mModuleNotFoundError\u001b[0m: No module named 'ConciliacaoVendas'"
     ],
     "output_type": "error"
    }
   ],
   "source": [
    "#import sys\n",
    "#sys.path.append(\"lib\")\n",
    "import pandas as pd\n",
    "import numpy as np\n",
    "import pyodbc\n",
    "\n",
    "import ConciliacaoVendas"
   ]
  },
  {
   "cell_type": "code",
   "execution_count": 8,
   "metadata": {},
   "outputs": [
    {
     "ename": "ModuleNotFoundError",
     "evalue": "No module named 'SqlService'",
     "traceback": [
      "\u001b[1;31m---------------------------------------------------------------------------\u001b[0m",
      "\u001b[1;31mModuleNotFoundError\u001b[0m                       Traceback (most recent call last)",
      "\u001b[1;32m<ipython-input-8-c3a5df7cc5de>\u001b[0m in \u001b[0;36m<module>\u001b[1;34m()\u001b[0m\n\u001b[0;32m      3\u001b[0m \u001b[0mdir\u001b[0m\u001b[1;33m(\u001b[0m\u001b[1;33m)\u001b[0m\u001b[1;33m\u001b[0m\u001b[0m\n\u001b[0;32m      4\u001b[0m \u001b[1;33m\u001b[0m\u001b[0m\n\u001b[1;32m----> 5\u001b[1;33m \u001b[1;32mimport\u001b[0m \u001b[0mSqlService\u001b[0m\u001b[1;33m\u001b[0m\u001b[0m\n\u001b[0m",
      "\u001b[1;31mModuleNotFoundError\u001b[0m: No module named 'SqlService'"
     ],
     "output_type": "error"
    }
   ],
   "source": [
    "import sys\n",
    "sys.path.append(\"Services\")\n",
    "dir()\n",
    "\n",
    "import SqlService"
   ]
  },
  {
   "cell_type": "code",
   "execution_count": 9,
   "metadata": {},
   "outputs": [
    {
     "ename": "NameError",
     "evalue": "name 'ConciliacaoVendas' is not defined",
     "traceback": [
      "\u001b[1;31m---------------------------------------------------------------------------\u001b[0m",
      "\u001b[1;31mNameError\u001b[0m                                 Traceback (most recent call last)",
      "\u001b[1;32m<ipython-input-9-2e14ec46539a>\u001b[0m in \u001b[0;36m<module>\u001b[1;34m()\u001b[0m\n\u001b[1;32m----> 1\u001b[1;33m \u001b[0mdf\u001b[0m \u001b[1;33m=\u001b[0m \u001b[0mConciliacaoVendas\u001b[0m\u001b[1;33m.\u001b[0m\u001b[0mextractAdquirentesFiles\u001b[0m\u001b[1;33m(\u001b[0m\u001b[1;33m)\u001b[0m\u001b[1;33m\u001b[0m\u001b[0m\n\u001b[0m\u001b[0;32m      2\u001b[0m \u001b[0mdfHeader\u001b[0m\u001b[1;33m,\u001b[0m \u001b[0mdfRows\u001b[0m \u001b[1;33m=\u001b[0m \u001b[0mConciliacaoVendas\u001b[0m\u001b[1;33m.\u001b[0m\u001b[0mSliceAdquirentesFilesHeaderAndRows\u001b[0m\u001b[1;33m(\u001b[0m\u001b[0mdf\u001b[0m\u001b[1;33m)\u001b[0m\u001b[1;33m\u001b[0m\u001b[0m\n",
      "\u001b[1;31mNameError\u001b[0m: name 'ConciliacaoVendas' is not defined"
     ],
     "output_type": "error"
    }
   ],
   "source": [
    "df = ConciliacaoVendas.extractAdquirentesFiles()\n",
    "dfHeader, dfRows = ConciliacaoVendas.SliceAdquirentesFilesHeaderAndRows(df)"
   ]
  },
  {
   "cell_type": "code",
   "execution_count": 10,
   "metadata": {},
   "outputs": [
    {
     "ename": "NameError",
     "evalue": "name 'dfRows' is not defined",
     "traceback": [
      "\u001b[1;31m---------------------------------------------------------------------------\u001b[0m",
      "\u001b[1;31mNameError\u001b[0m                                 Traceback (most recent call last)",
      "\u001b[1;32m<ipython-input-10-94c4b3799576>\u001b[0m in \u001b[0;36m<module>\u001b[1;34m()\u001b[0m\n\u001b[1;32m----> 1\u001b[1;33m \u001b[0mpd\u001b[0m\u001b[1;33m.\u001b[0m\u001b[0mDataFrame\u001b[0m\u001b[1;33m(\u001b[0m\u001b[0mdfRows\u001b[0m\u001b[1;33m.\u001b[0m\u001b[0mgroupby\u001b[0m\u001b[1;33m(\u001b[0m\u001b[1;34m'Conciliação'\u001b[0m\u001b[1;33m)\u001b[0m\u001b[1;33m.\u001b[0m\u001b[0mcount\u001b[0m\u001b[1;33m(\u001b[0m\u001b[1;33m)\u001b[0m\u001b[1;33m[\u001b[0m\u001b[1;33m[\u001b[0m\u001b[1;34m'ID Único EQUALS'\u001b[0m\u001b[1;33m]\u001b[0m\u001b[1;33m]\u001b[0m\u001b[1;33m)\u001b[0m\u001b[1;33m.\u001b[0m\u001b[0mjoin\u001b[0m\u001b[1;33m(\u001b[0m\u001b[0mdfRows\u001b[0m\u001b[1;33m.\u001b[0m\u001b[0mgroupby\u001b[0m\u001b[1;33m(\u001b[0m\u001b[1;34m'Conciliação'\u001b[0m\u001b[1;33m)\u001b[0m\u001b[1;33m.\u001b[0m\u001b[0msum\u001b[0m\u001b[1;33m(\u001b[0m\u001b[1;33m)\u001b[0m\u001b[1;33m[\u001b[0m\u001b[1;33m[\u001b[0m\u001b[1;34m'Vlr. Bruto'\u001b[0m\u001b[1;33m]\u001b[0m\u001b[1;33m]\u001b[0m\u001b[1;33m)\u001b[0m\u001b[1;33m\u001b[0m\u001b[0m\n\u001b[0m",
      "\u001b[1;31mNameError\u001b[0m: name 'dfRows' is not defined"
     ],
     "output_type": "error"
    }
   ],
   "source": [
    "pd.DataFrame(dfRows.groupby('Conciliação').count()[['ID Único EQUALS']]).join(dfRows.groupby('Conciliação').sum()[['Vlr. Bruto']])\n"
   ]
  },
  {
   "cell_type": "code",
   "execution_count": 11,
   "metadata": {
    "collapsed": false
   },
   "outputs": [
    {
     "ename": "NameError",
     "evalue": "name 'dfHeader' is not defined",
     "traceback": [
      "\u001b[1;31m---------------------------------------------------------------------------\u001b[0m",
      "\u001b[1;31mNameError\u001b[0m                                 Traceback (most recent call last)",
      "\u001b[1;32m<ipython-input-11-9ec84e2e572a>\u001b[0m in \u001b[0;36m<module>\u001b[1;34m()\u001b[0m\n\u001b[0;32m      1\u001b[0m \u001b[1;31m#dfRows['Data'].unique()\u001b[0m\u001b[1;33m\u001b[0m\u001b[1;33m\u001b[0m\u001b[0m\n\u001b[1;32m----> 2\u001b[1;33m \u001b[0mpd\u001b[0m\u001b[1;33m.\u001b[0m\u001b[0mDataFrame\u001b[0m\u001b[1;33m(\u001b[0m\u001b[0mdfHeader\u001b[0m\u001b[1;33m)\u001b[0m\u001b[1;33m.\u001b[0m\u001b[0mhead\u001b[0m\u001b[1;33m(\u001b[0m\u001b[1;36m2\u001b[0m\u001b[1;33m)\u001b[0m\u001b[1;33m\u001b[0m\u001b[0m\n\u001b[0m",
      "\u001b[1;31mNameError\u001b[0m: name 'dfHeader' is not defined"
     ],
     "output_type": "error"
    }
   ],
   "source": [
    "#dfRows['Data'].unique()\n",
    "pd.DataFrame(dfHeader).head(2)"
   ]
  },
  {
   "cell_type": "code",
   "execution_count": 12,
   "metadata": {
    "collapsed": true
   },
   "outputs": [
    {
     "ename": "NameError",
     "evalue": "name 'dfRows' is not defined",
     "traceback": [
      "\u001b[1;31m---------------------------------------------------------------------------\u001b[0m",
      "\u001b[1;31mNameError\u001b[0m                                 Traceback (most recent call last)",
      "\u001b[1;32m<ipython-input-12-3359aa7baa8c>\u001b[0m in \u001b[0;36m<module>\u001b[1;34m()\u001b[0m\n\u001b[0;32m      1\u001b[0m \u001b[1;33m\u001b[0m\u001b[0m\n\u001b[0;32m      2\u001b[0m \u001b[1;33m\u001b[0m\u001b[0m\n\u001b[1;32m----> 3\u001b[1;33m \u001b[0mdfRows\u001b[0m \u001b[1;33m=\u001b[0m \u001b[0mpd\u001b[0m\u001b[1;33m.\u001b[0m\u001b[0mDataFrame\u001b[0m\u001b[1;33m(\u001b[0m\u001b[0mdfRows\u001b[0m\u001b[1;33m)\u001b[0m\u001b[1;33m;\u001b[0m\u001b[1;33m\u001b[0m\u001b[0m\n\u001b[0m\u001b[0;32m      4\u001b[0m \u001b[0mdfRows\u001b[0m \u001b[1;33m=\u001b[0m \u001b[0mdfRows\u001b[0m\u001b[1;33m.\u001b[0m\u001b[0mreplace\u001b[0m\u001b[1;33m(\u001b[0m\u001b[0mnp\u001b[0m\u001b[1;33m.\u001b[0m\u001b[0mnan\u001b[0m\u001b[1;33m,\u001b[0m\u001b[1;34m'NULL'\u001b[0m\u001b[1;33m)\u001b[0m\u001b[1;33m\u001b[0m\u001b[0m\n\u001b[0;32m      5\u001b[0m \u001b[1;33m\u001b[0m\u001b[0m\n",
      "\u001b[1;31mNameError\u001b[0m: name 'dfRows' is not defined"
     ],
     "output_type": "error"
    }
   ],
   "source": [
    "\n",
    "\n",
    "dfRows = pd.DataFrame(dfRows);\n",
    "dfRows = dfRows.replace(np.nan,'NULL')\n",
    "\n",
    "#dfRows = dfRows.iloc[0:len(dfRows),2:38]\n",
    "#dfRows.where(dfRows.isnull(df), None)\n",
    "\n"
   ]
  },
  {
   "cell_type": "code",
   "execution_count": 13,
   "metadata": {
    "collapsed": true
   },
   "outputs": [
    {
     "ename": "NameError",
     "evalue": "name 'ConciliacaoVendas' is not defined",
     "traceback": [
      "\u001b[1;31m---------------------------------------------------------------------------\u001b[0m",
      "\u001b[1;31mNameError\u001b[0m                                 Traceback (most recent call last)",
      "\u001b[1;32m<ipython-input-13-7131c346d9a6>\u001b[0m in \u001b[0;36m<module>\u001b[1;34m()\u001b[0m\n\u001b[1;32m----> 1\u001b[1;33m \u001b[0mConciliacaoVendas\u001b[0m\u001b[1;33m.\u001b[0m\u001b[0minsertDsTransacaoAdquirente\u001b[0m\u001b[1;33m(\u001b[0m\u001b[0mcursor\u001b[0m\u001b[1;33m,\u001b[0m \u001b[0mconn\u001b[0m\u001b[1;33m,\u001b[0m \u001b[0mdfRows\u001b[0m\u001b[1;33m)\u001b[0m\u001b[1;33m\u001b[0m\u001b[0m\n\u001b[0m",
      "\u001b[1;31mNameError\u001b[0m: name 'ConciliacaoVendas' is not defined"
     ],
     "output_type": "error"
    }
   ],
   "source": [
    "ConciliacaoVendas.insertDsTransacaoAdquirente(cursor, conn, dfRows)"
   ]
  },
  {
   "cell_type": "code",
   "execution_count": 14,
   "metadata": {},
   "outputs": [
    {
     "ename": "NameError",
     "evalue": "name 'SqlService' is not defined",
     "traceback": [
      "\u001b[1;31m---------------------------------------------------------------------------\u001b[0m",
      "\u001b[1;31mNameError\u001b[0m                                 Traceback (most recent call last)",
      "\u001b[1;32m<ipython-input-14-b32bb1c789df>\u001b[0m in \u001b[0;36m<module>\u001b[1;34m()\u001b[0m\n\u001b[1;32m----> 1\u001b[1;33m \u001b[0mmap\u001b[0m\u001b[1;33m(\u001b[0m\u001b[0mSqlService\u001b[0m\u001b[1;33m.\u001b[0m\u001b[0minsertDsEstabelecimento_tmp\u001b[0m\u001b[1;33m,\u001b[0m \u001b[0mdfHeader\u001b[0m\u001b[1;33m[\u001b[0m\u001b[1;34m'Nro. Autorização'\u001b[0m\u001b[1;33m]\u001b[0m\u001b[1;33m,\u001b[0m \u001b[0mdfHeader\u001b[0m\u001b[1;33m[\u001b[0m\u001b[1;34m'Vlr. Bruto'\u001b[0m\u001b[1;33m]\u001b[0m\u001b[1;33m,\u001b[0m \u001b[0mdfHeader\u001b[0m\u001b[1;33m[\u001b[0m\u001b[1;34m'Vlr. Comissão'\u001b[0m\u001b[1;33m]\u001b[0m\u001b[1;33m,\u001b[0m \u001b[0mdfHeader\u001b[0m\u001b[1;33m[\u001b[0m\u001b[1;34m'Vlr. Líquido'\u001b[0m\u001b[1;33m]\u001b[0m\u001b[1;33m,\u001b[0m \u001b[0mdfHeader\u001b[0m\u001b[1;33m[\u001b[0m\u001b[1;34m'Vlr. Rejeitado'\u001b[0m\u001b[1;33m]\u001b[0m\u001b[1;33m)\u001b[0m\u001b[1;33m\u001b[0m\u001b[0m\n\u001b[0m",
      "\u001b[1;31mNameError\u001b[0m: name 'SqlService' is not defined"
     ],
     "output_type": "error"
    }
   ],
   "source": [
    "map(SqlService.insertDsEstabelecimento_tmp, dfHeader['Nro. Autorização'], dfHeader['Vlr. Bruto'], dfHeader['Vlr. Comissão'], dfHeader['Vlr. Líquido'], dfHeader['Vlr. Rejeitado'])"
   ]
  },
  {
   "cell_type": "code",
   "execution_count": 15,
   "metadata": {},
   "outputs": [
    {
     "ename": "SystemError",
     "evalue": "<built-in function connect> returned a result with an error set",
     "traceback": [
      "\u001b[1;31m---------------------------------------------------------------------------\u001b[0m",
      "\u001b[1;31mKeyboardInterrupt\u001b[0m                         Traceback (most recent call last)",
      "\u001b[1;32mC:\\ProgramData\\Anaconda3\\lib\\hashlib.py\u001b[0m in \u001b[0;36m__hash_new\u001b[1;34m(name, data, **kwargs)\u001b[0m\n\u001b[0;32m    137\u001b[0m \u001b[1;33m\u001b[0m\u001b[0m\n\u001b[1;32m--> 138\u001b[1;33m \u001b[1;32mdef\u001b[0m \u001b[0m__hash_new\u001b[0m\u001b[1;33m(\u001b[0m\u001b[0mname\u001b[0m\u001b[1;33m,\u001b[0m \u001b[0mdata\u001b[0m\u001b[1;33m=\u001b[0m\u001b[1;34mb''\u001b[0m\u001b[1;33m,\u001b[0m \u001b[1;33m**\u001b[0m\u001b[0mkwargs\u001b[0m\u001b[1;33m)\u001b[0m\u001b[1;33m:\u001b[0m\u001b[1;33m\u001b[0m\u001b[0m\n\u001b[0m\u001b[0;32m    139\u001b[0m     \"\"\"new(name, data=b'') - Return a new hashing object using the named algorithm;\n",
      "\u001b[1;31mKeyboardInterrupt\u001b[0m: ",
      "\nThe above exception was the direct cause of the following exception:\n",
      "\u001b[1;31mSystemError\u001b[0m                               Traceback (most recent call last)",
      "\u001b[1;32m<ipython-input-15-1cf623c2d57f>\u001b[0m in \u001b[0;36m<module>\u001b[1;34m()\u001b[0m\n\u001b[1;32m----> 1\u001b[1;33m \u001b[0mconn\u001b[0m \u001b[1;33m=\u001b[0m \u001b[0mpyodbc\u001b[0m\u001b[1;33m.\u001b[0m\u001b[0mconnect\u001b[0m\u001b[1;33m(\u001b[0m\u001b[1;34m'DRIVER={SQL Server};SERVER=.;DATABASE=IR;UID=sa;PWD=@gabriel'\u001b[0m\u001b[1;33m)\u001b[0m\u001b[1;33m\u001b[0m\u001b[0m\n\u001b[0m",
      "\u001b[1;31mSystemError\u001b[0m: <built-in function connect> returned a result with an error set"
     ],
     "output_type": "error"
    }
   ],
   "source": [
    "conn = pyodbc.connect('DRIVER={SQL Server};SERVER=.;DATABASE=IR;UID=sa;PWD=@gabriel')"
   ]
  },
  {
   "cell_type": "code",
   "execution_count": 16,
   "metadata": {},
   "outputs": [],
   "source": [
    "cursor = conn.cursor()"
   ]
  },
  {
   "cell_type": "code",
   "execution_count": 17,
   "metadata": {},
   "outputs": [
    {
     "name": "stdout",
     "output_type": "stream",
     "text": [
      "(1, 'Gabriel')\n"
     ]
    }
   ],
   "source": [
    "cursor.execute(\"select * from Teste\"); \n",
    "row = cursor.fetchone() \n",
    "if row: print(row)"
   ]
  },
  {
   "cell_type": "code",
   "execution_count": 18,
   "metadata": {},
   "outputs": [
    {
     "name": "stdout",
     "output_type": "stream",
     "text": [
      "(1, 'Gabriel')\n(2, 'Viviane')\n(2, 'Viviane')\n(2, 'Viviane')\n(2, 'Viviane')\n"
     ]
    }
   ],
   "source": [
    "cursor.execute(\"select * from Teste\"); \n",
    "for row in cursor: print(row)  \n"
   ]
  },
  {
   "cell_type": "code",
   "execution_count": 19,
   "metadata": {},
   "outputs": [],
   "source": [
    "cursor.execute(\"insert into Teste(id, name) values (?, ?)\", '2', 'Viviane');\n",
    "conn.commit();"
   ]
  },
  {
   "cell_type": "code",
   "execution_count": 20,
   "metadata": {},
   "outputs": [],
   "source": [
    "cursor.execute(\"insert into dsEstabelecimentoAdquirente (Estabelecimento, VlrBruto, VlrComissao, VlrLiquido, VlrRejeitado) values (?,?,?,?,?)\", '6666', '10', '9', '10', '9.5');\n",
    "conn.commit();"
   ]
  },
  {
   "cell_type": "code",
   "execution_count": 21,
   "metadata": {
    "collapsed": true
   },
   "outputs": [
    {
     "ename": "KeyboardInterrupt",
     "evalue": "",
     "traceback": [
      "\u001b[1;31m---------------------------------------------------------------------------\u001b[0m",
      "\u001b[1;31mKeyboardInterrupt\u001b[0m                         Traceback (most recent call last)",
      "\u001b[1;32m<ipython-input-21-b8e1980eaa6f>\u001b[0m in \u001b[0;36m<module>\u001b[1;34m()\u001b[0m\n\u001b[1;32m----> 1\u001b[1;33m \u001b[0mpd\u001b[0m\u001b[1;33m.\u001b[0m\u001b[0mread_sql\u001b[0m\u001b[1;33m(\u001b[0m\u001b[1;34m'select * from Teste'\u001b[0m\u001b[1;33m,\u001b[0m \u001b[0mconn\u001b[0m\u001b[1;33m)\u001b[0m\u001b[1;33m\u001b[0m\u001b[0m\n\u001b[0m",
      "\u001b[1;32mC:\\ProgramData\\Anaconda3\\lib\\site-packages\\pandas\\io\\sql.py\u001b[0m in \u001b[0;36mread_sql\u001b[1;34m(sql, con, index_col, coerce_float, params, parse_dates, columns, chunksize)\u001b[0m\n\u001b[0;32m    392\u001b[0m \u001b[1;33m\u001b[0m\u001b[0m\n\u001b[0;32m    393\u001b[0m     \"\"\"\n\u001b[1;32m--> 394\u001b[1;33m     \u001b[0mpandas_sql\u001b[0m \u001b[1;33m=\u001b[0m \u001b[0mpandasSQL_builder\u001b[0m\u001b[1;33m(\u001b[0m\u001b[0mcon\u001b[0m\u001b[1;33m)\u001b[0m\u001b[1;33m\u001b[0m\u001b[0m\n\u001b[0m\u001b[0;32m    395\u001b[0m \u001b[1;33m\u001b[0m\u001b[0m\n\u001b[0;32m    396\u001b[0m     \u001b[1;32mif\u001b[0m \u001b[0misinstance\u001b[0m\u001b[1;33m(\u001b[0m\u001b[0mpandas_sql\u001b[0m\u001b[1;33m,\u001b[0m \u001b[0mSQLiteDatabase\u001b[0m\u001b[1;33m)\u001b[0m\u001b[1;33m:\u001b[0m\u001b[1;33m\u001b[0m\u001b[0m\n",
      "\u001b[1;32mC:\\ProgramData\\Anaconda3\\lib\\site-packages\\pandas\\io\\sql.py\u001b[0m in \u001b[0;36mpandasSQL_builder\u001b[1;34m(con, flavor, schema, meta, is_cursor)\u001b[0m\n\u001b[0;32m    530\u001b[0m     \u001b[1;31m# is_cursor should not be necessary.\u001b[0m\u001b[1;33m\u001b[0m\u001b[1;33m\u001b[0m\u001b[0m\n\u001b[0;32m    531\u001b[0m     \u001b[0mcon\u001b[0m \u001b[1;33m=\u001b[0m \u001b[0m_engine_builder\u001b[0m\u001b[1;33m(\u001b[0m\u001b[0mcon\u001b[0m\u001b[1;33m)\u001b[0m\u001b[1;33m\u001b[0m\u001b[0m\n\u001b[1;32m--> 532\u001b[1;33m     \u001b[1;32mif\u001b[0m \u001b[0m_is_sqlalchemy_connectable\u001b[0m\u001b[1;33m(\u001b[0m\u001b[0mcon\u001b[0m\u001b[1;33m)\u001b[0m\u001b[1;33m:\u001b[0m\u001b[1;33m\u001b[0m\u001b[0m\n\u001b[0m\u001b[0;32m    533\u001b[0m         \u001b[1;32mreturn\u001b[0m \u001b[0mSQLDatabase\u001b[0m\u001b[1;33m(\u001b[0m\u001b[0mcon\u001b[0m\u001b[1;33m,\u001b[0m \u001b[0mschema\u001b[0m\u001b[1;33m=\u001b[0m\u001b[0mschema\u001b[0m\u001b[1;33m,\u001b[0m \u001b[0mmeta\u001b[0m\u001b[1;33m=\u001b[0m\u001b[0mmeta\u001b[0m\u001b[1;33m)\u001b[0m\u001b[1;33m\u001b[0m\u001b[0m\n\u001b[0;32m    534\u001b[0m     \u001b[1;32melif\u001b[0m \u001b[0misinstance\u001b[0m\u001b[1;33m(\u001b[0m\u001b[0mcon\u001b[0m\u001b[1;33m,\u001b[0m \u001b[0mstring_types\u001b[0m\u001b[1;33m)\u001b[0m\u001b[1;33m:\u001b[0m\u001b[1;33m\u001b[0m\u001b[0m\n",
      "\u001b[1;32mC:\\ProgramData\\Anaconda3\\lib\\site-packages\\pandas\\io\\sql.py\u001b[0m in \u001b[0;36m_is_sqlalchemy_connectable\u001b[1;34m(con)\u001b[0m\n\u001b[0;32m     64\u001b[0m     \u001b[1;32mif\u001b[0m \u001b[0m_SQLALCHEMY_INSTALLED\u001b[0m \u001b[1;32mis\u001b[0m \u001b[1;32mNone\u001b[0m\u001b[1;33m:\u001b[0m\u001b[1;33m\u001b[0m\u001b[0m\n\u001b[0;32m     65\u001b[0m         \u001b[1;32mtry\u001b[0m\u001b[1;33m:\u001b[0m\u001b[1;33m\u001b[0m\u001b[0m\n\u001b[1;32m---> 66\u001b[1;33m             \u001b[1;32mimport\u001b[0m \u001b[0msqlalchemy\u001b[0m\u001b[1;33m\u001b[0m\u001b[0m\n\u001b[0m\u001b[0;32m     67\u001b[0m             \u001b[0m_SQLALCHEMY_INSTALLED\u001b[0m \u001b[1;33m=\u001b[0m \u001b[1;32mTrue\u001b[0m\u001b[1;33m\u001b[0m\u001b[0m\n\u001b[0;32m     68\u001b[0m \u001b[1;33m\u001b[0m\u001b[0m\n",
      "\u001b[1;32mC:\\ProgramData\\Anaconda3\\lib\\site-packages\\sqlalchemy\\__init__.py\u001b[0m in \u001b[0;36m<module>\u001b[1;34m()\u001b[0m\n\u001b[0;32m      7\u001b[0m \u001b[1;33m\u001b[0m\u001b[0m\n\u001b[0;32m      8\u001b[0m \u001b[1;33m\u001b[0m\u001b[0m\n\u001b[1;32m----> 9\u001b[1;33m from .sql import (\n\u001b[0m\u001b[0;32m     10\u001b[0m     \u001b[0malias\u001b[0m\u001b[1;33m,\u001b[0m\u001b[1;33m\u001b[0m\u001b[0m\n\u001b[0;32m     11\u001b[0m     \u001b[0mall_\u001b[0m\u001b[1;33m,\u001b[0m\u001b[1;33m\u001b[0m\u001b[0m\n",
      "\u001b[1;32mC:\\ProgramData\\Anaconda3\\lib\\site-packages\\sqlalchemy\\sql\\__init__.py\u001b[0m in \u001b[0;36m<module>\u001b[1;34m()\u001b[0m\n\u001b[0;32m      6\u001b[0m \u001b[1;31m# the MIT License: http://www.opensource.org/licenses/mit-license.php\u001b[0m\u001b[1;33m\u001b[0m\u001b[1;33m\u001b[0m\u001b[0m\n\u001b[0;32m      7\u001b[0m \u001b[1;33m\u001b[0m\u001b[0m\n\u001b[1;32m----> 8\u001b[1;33m from .expression import (\n\u001b[0m\u001b[0;32m      9\u001b[0m     \u001b[0mAlias\u001b[0m\u001b[1;33m,\u001b[0m\u001b[1;33m\u001b[0m\u001b[0m\n\u001b[0;32m     10\u001b[0m     \u001b[0mClauseElement\u001b[0m\u001b[1;33m,\u001b[0m\u001b[1;33m\u001b[0m\u001b[0m\n",
      "\u001b[1;32mC:\\ProgramData\\Anaconda3\\lib\\site-packages\\sqlalchemy\\sql\\expression.py\u001b[0m in \u001b[0;36m<module>\u001b[1;34m()\u001b[0m\n\u001b[0;32m     32\u001b[0m \u001b[1;33m\u001b[0m\u001b[0m\n\u001b[0;32m     33\u001b[0m \u001b[1;32mfrom\u001b[0m \u001b[1;33m.\u001b[0m\u001b[0mvisitors\u001b[0m \u001b[1;32mimport\u001b[0m \u001b[0mVisitable\u001b[0m\u001b[1;33m\u001b[0m\u001b[0m\n\u001b[1;32m---> 34\u001b[1;33m \u001b[1;32mfrom\u001b[0m \u001b[1;33m.\u001b[0m\u001b[0mfunctions\u001b[0m \u001b[1;32mimport\u001b[0m \u001b[0mfunc\u001b[0m\u001b[1;33m,\u001b[0m \u001b[0mmodifier\u001b[0m\u001b[1;33m,\u001b[0m \u001b[0mFunctionElement\u001b[0m\u001b[1;33m,\u001b[0m \u001b[0mFunction\u001b[0m\u001b[1;33m\u001b[0m\u001b[0m\n\u001b[0m\u001b[0;32m     35\u001b[0m \u001b[1;32mfrom\u001b[0m \u001b[1;33m.\u001b[0m\u001b[1;33m.\u001b[0m\u001b[0mutil\u001b[0m\u001b[1;33m.\u001b[0m\u001b[0mlanghelpers\u001b[0m \u001b[1;32mimport\u001b[0m \u001b[0mpublic_factory\u001b[0m\u001b[1;33m\u001b[0m\u001b[0m\n\u001b[0;32m     36\u001b[0m \u001b[1;32mfrom\u001b[0m \u001b[1;33m.\u001b[0m\u001b[0melements\u001b[0m \u001b[1;32mimport\u001b[0m \u001b[0mClauseElement\u001b[0m\u001b[1;33m,\u001b[0m \u001b[0mColumnElement\u001b[0m\u001b[1;33m,\u001b[0m\u001b[0;31m\\\u001b[0m\u001b[1;33m\u001b[0m\u001b[0m\n",
      "\u001b[1;32mC:\\ProgramData\\Anaconda3\\lib\\site-packages\\sqlalchemy\\sql\\functions.py\u001b[0m in \u001b[0;36m<module>\u001b[1;34m()\u001b[0m\n\u001b[0;32m      9\u001b[0m \u001b[1;33m\u001b[0m\u001b[0m\n\u001b[0;32m     10\u001b[0m \"\"\"\n\u001b[1;32m---> 11\u001b[1;33m \u001b[1;32mfrom\u001b[0m \u001b[1;33m.\u001b[0m \u001b[1;32mimport\u001b[0m \u001b[0msqltypes\u001b[0m\u001b[1;33m,\u001b[0m \u001b[0mschema\u001b[0m\u001b[1;33m\u001b[0m\u001b[0m\n\u001b[0m\u001b[0;32m     12\u001b[0m \u001b[1;32mfrom\u001b[0m \u001b[1;33m.\u001b[0m\u001b[0mbase\u001b[0m \u001b[1;32mimport\u001b[0m \u001b[0mExecutable\u001b[0m\u001b[1;33m,\u001b[0m \u001b[0mColumnCollection\u001b[0m\u001b[1;33m\u001b[0m\u001b[0m\n\u001b[0;32m     13\u001b[0m \u001b[1;32mfrom\u001b[0m \u001b[1;33m.\u001b[0m\u001b[0melements\u001b[0m \u001b[1;32mimport\u001b[0m \u001b[0mClauseList\u001b[0m\u001b[1;33m,\u001b[0m \u001b[0mCast\u001b[0m\u001b[1;33m,\u001b[0m \u001b[0mExtract\u001b[0m\u001b[1;33m,\u001b[0m \u001b[0m_literal_as_binds\u001b[0m\u001b[1;33m,\u001b[0m\u001b[0;31m \u001b[0m\u001b[0;31m\\\u001b[0m\u001b[1;33m\u001b[0m\u001b[0m\n",
      "\u001b[1;32mC:\\ProgramData\\Anaconda3\\lib\\site-packages\\sqlalchemy\\sql\\sqltypes.py\u001b[0m in \u001b[0;36m<module>\u001b[1;34m()\u001b[0m\n\u001b[0;32m     15\u001b[0m \u001b[1;32mimport\u001b[0m \u001b[0mjson\u001b[0m\u001b[1;33m\u001b[0m\u001b[0m\n\u001b[0;32m     16\u001b[0m \u001b[1;33m\u001b[0m\u001b[0m\n\u001b[1;32m---> 17\u001b[1;33m \u001b[1;32mfrom\u001b[0m \u001b[1;33m.\u001b[0m \u001b[1;32mimport\u001b[0m \u001b[0melements\u001b[0m\u001b[1;33m\u001b[0m\u001b[0m\n\u001b[0m\u001b[0;32m     18\u001b[0m \u001b[1;32mfrom\u001b[0m \u001b[1;33m.\u001b[0m\u001b[0mtype_api\u001b[0m \u001b[1;32mimport\u001b[0m \u001b[0mTypeEngine\u001b[0m\u001b[1;33m,\u001b[0m \u001b[0mTypeDecorator\u001b[0m\u001b[1;33m,\u001b[0m \u001b[0mto_instance\u001b[0m\u001b[1;33m,\u001b[0m \u001b[0mVariant\u001b[0m\u001b[1;33m\u001b[0m\u001b[0m\n\u001b[0;32m     19\u001b[0m \u001b[1;32mfrom\u001b[0m \u001b[1;33m.\u001b[0m\u001b[0melements\u001b[0m \u001b[1;32mimport\u001b[0m \u001b[0mquoted_name\u001b[0m\u001b[1;33m,\u001b[0m \u001b[0mTypeCoerce\u001b[0m \u001b[1;32mas\u001b[0m \u001b[0mtype_coerce\u001b[0m\u001b[1;33m,\u001b[0m \u001b[0m_defer_name\u001b[0m\u001b[1;33m,\u001b[0m\u001b[0;31m \u001b[0m\u001b[0;31m\\\u001b[0m\u001b[1;33m\u001b[0m\u001b[0m\n",
      "\u001b[1;32mC:\\ProgramData\\Anaconda3\\lib\\site-packages\\sqlalchemy\\sql\\elements.py\u001b[0m in \u001b[0;36m<module>\u001b[1;34m()\u001b[0m\n\u001b[0;32m     14\u001b[0m \u001b[1;33m\u001b[0m\u001b[0m\n\u001b[0;32m     15\u001b[0m \u001b[1;32mfrom\u001b[0m \u001b[1;33m.\u001b[0m\u001b[1;33m.\u001b[0m \u001b[1;32mimport\u001b[0m \u001b[0mutil\u001b[0m\u001b[1;33m,\u001b[0m \u001b[0mexc\u001b[0m\u001b[1;33m,\u001b[0m \u001b[0minspection\u001b[0m\u001b[1;33m\u001b[0m\u001b[0m\n\u001b[1;32m---> 16\u001b[1;33m \u001b[1;32mfrom\u001b[0m \u001b[1;33m.\u001b[0m \u001b[1;32mimport\u001b[0m \u001b[0mtype_api\u001b[0m\u001b[1;33m\u001b[0m\u001b[0m\n\u001b[0m\u001b[0;32m     17\u001b[0m \u001b[1;32mfrom\u001b[0m \u001b[1;33m.\u001b[0m \u001b[1;32mimport\u001b[0m \u001b[0moperators\u001b[0m\u001b[1;33m\u001b[0m\u001b[0m\n\u001b[0;32m     18\u001b[0m \u001b[1;32mfrom\u001b[0m \u001b[1;33m.\u001b[0m\u001b[0mvisitors\u001b[0m \u001b[1;32mimport\u001b[0m \u001b[0mVisitable\u001b[0m\u001b[1;33m,\u001b[0m \u001b[0mcloned_traverse\u001b[0m\u001b[1;33m,\u001b[0m \u001b[0mtraverse\u001b[0m\u001b[1;33m\u001b[0m\u001b[0m\n",
      "\u001b[1;32mC:\\ProgramData\\Anaconda3\\lib\\site-packages\\sqlalchemy\\sql\\type_api.py\u001b[0m in \u001b[0;36m<module>\u001b[1;34m()\u001b[0m\n\u001b[0;32m     12\u001b[0m \u001b[1;33m\u001b[0m\u001b[0m\n\u001b[0;32m     13\u001b[0m \u001b[1;32mfrom\u001b[0m \u001b[1;33m.\u001b[0m\u001b[1;33m.\u001b[0m \u001b[1;32mimport\u001b[0m \u001b[0mexc\u001b[0m\u001b[1;33m,\u001b[0m \u001b[0mutil\u001b[0m\u001b[1;33m\u001b[0m\u001b[0m\n\u001b[1;32m---> 14\u001b[1;33m \u001b[1;32mfrom\u001b[0m \u001b[1;33m.\u001b[0m \u001b[1;32mimport\u001b[0m \u001b[0moperators\u001b[0m\u001b[1;33m\u001b[0m\u001b[0m\n\u001b[0m\u001b[0;32m     15\u001b[0m \u001b[1;32mfrom\u001b[0m \u001b[1;33m.\u001b[0m\u001b[0mvisitors\u001b[0m \u001b[1;32mimport\u001b[0m \u001b[0mVisitable\u001b[0m\u001b[1;33m,\u001b[0m \u001b[0mVisitableType\u001b[0m\u001b[1;33m\u001b[0m\u001b[0m\n\u001b[0;32m     16\u001b[0m \u001b[1;32mfrom\u001b[0m \u001b[1;33m.\u001b[0m\u001b[0mbase\u001b[0m \u001b[1;32mimport\u001b[0m \u001b[0mSchemaEventTarget\u001b[0m\u001b[1;33m\u001b[0m\u001b[0m\n",
      "\u001b[1;32mC:\\ProgramData\\Anaconda3\\lib\\importlib\\_bootstrap.py\u001b[0m in \u001b[0;36m_find_and_load\u001b[1;34m(name, import_)\u001b[0m\n",
      "\u001b[1;32mC:\\ProgramData\\Anaconda3\\lib\\importlib\\_bootstrap.py\u001b[0m in \u001b[0;36m_find_and_load_unlocked\u001b[1;34m(name, import_)\u001b[0m\n",
      "\u001b[1;32mC:\\ProgramData\\Anaconda3\\lib\\importlib\\_bootstrap.py\u001b[0m in \u001b[0;36m_load_unlocked\u001b[1;34m(spec)\u001b[0m\n",
      "\u001b[1;32mC:\\ProgramData\\Anaconda3\\lib\\importlib\\_bootstrap_external.py\u001b[0m in \u001b[0;36mexec_module\u001b[1;34m(self, module)\u001b[0m\n",
      "\u001b[1;32mC:\\ProgramData\\Anaconda3\\lib\\importlib\\_bootstrap_external.py\u001b[0m in \u001b[0;36mget_code\u001b[1;34m(self, fullname)\u001b[0m\n",
      "\u001b[1;32mC:\\ProgramData\\Anaconda3\\lib\\importlib\\_bootstrap_external.py\u001b[0m in \u001b[0;36m_cache_bytecode\u001b[1;34m(self, source_path, bytecode_path, data)\u001b[0m\n",
      "\u001b[1;32mC:\\ProgramData\\Anaconda3\\lib\\importlib\\_bootstrap_external.py\u001b[0m in \u001b[0;36mset_data\u001b[1;34m(self, path, data, _mode)\u001b[0m\n",
      "\u001b[1;32mC:\\ProgramData\\Anaconda3\\lib\\importlib\\_bootstrap_external.py\u001b[0m in \u001b[0;36m_path_isdir\u001b[1;34m(path)\u001b[0m\n",
      "\u001b[1;32mC:\\ProgramData\\Anaconda3\\lib\\importlib\\_bootstrap_external.py\u001b[0m in \u001b[0;36m_path_is_mode_type\u001b[1;34m(path, mode)\u001b[0m\n",
      "\u001b[1;32mC:\\ProgramData\\Anaconda3\\lib\\importlib\\_bootstrap_external.py\u001b[0m in \u001b[0;36m_path_stat\u001b[1;34m(path)\u001b[0m\n",
      "\u001b[1;31mKeyboardInterrupt\u001b[0m: "
     ],
     "output_type": "error"
    }
   ],
   "source": [
    "pd.read_sql('select * from Teste', conn)"
   ]
  },
  {
   "cell_type": "code",
   "execution_count": 22,
   "metadata": {},
   "outputs": [
    {
     "data": {
      "text/plain": [
       "pyodbc.Connection"
      ]
     },
     "execution_count": 22,
     "metadata": {},
     "output_type": "execute_result"
    }
   ],
   "source": [
    "type(conn)"
   ]
  },
  {
   "cell_type": "code",
   "execution_count": 23,
   "metadata": {},
   "outputs": [],
   "source": [
    "conn.close()"
   ]
  },
  {
   "cell_type": "code",
   "execution_count": 24,
   "metadata": {
    "collapsed": true
   },
   "outputs": [
    {
     "ename": "NameError",
     "evalue": "name 'SqlService' is not defined",
     "traceback": [
      "\u001b[1;31m---------------------------------------------------------------------------\u001b[0m",
      "\u001b[1;31mNameError\u001b[0m                                 Traceback (most recent call last)",
      "\u001b[1;32m<ipython-input-24-6fb1576ab102>\u001b[0m in \u001b[0;36m<module>\u001b[1;34m()\u001b[0m\n\u001b[1;32m----> 1\u001b[1;33m \u001b[0mSqlService\u001b[0m\u001b[1;33m.\u001b[0m\u001b[0mTeste\u001b[0m\u001b[1;33m(\u001b[0m\u001b[1;33m)\u001b[0m\u001b[1;33m\u001b[0m\u001b[0m\n\u001b[0m",
      "\u001b[1;31mNameError\u001b[0m: name 'SqlService' is not defined"
     ],
     "output_type": "error"
    }
   ],
   "source": [
    "SqlService.Teste()"
   ]
  },
  {
   "cell_type": "code",
   "execution_count": 25,
   "metadata": {
    "collapsed": true
   },
   "outputs": [
    {
     "ename": "NameError",
     "evalue": "name '__file__' is not defined",
     "traceback": [
      "\u001b[1;31m---------------------------------------------------------------------------\u001b[0m",
      "\u001b[1;31mNameError\u001b[0m                                 Traceback (most recent call last)",
      "\u001b[1;32m<ipython-input-25-251c2c869d18>\u001b[0m in \u001b[0;36m<module>\u001b[1;34m()\u001b[0m\n\u001b[0;32m      1\u001b[0m \u001b[1;33m\u001b[0m\u001b[0m\n\u001b[0;32m      2\u001b[0m \u001b[1;32mimport\u001b[0m \u001b[0mos\u001b[0m\u001b[1;33m\u001b[0m\u001b[0m\n\u001b[1;32m----> 3\u001b[1;33m \u001b[0mcurrent_file\u001b[0m \u001b[1;33m=\u001b[0m \u001b[0mos\u001b[0m\u001b[1;33m.\u001b[0m\u001b[0mpath\u001b[0m\u001b[1;33m.\u001b[0m\u001b[0mabspath\u001b[0m\u001b[1;33m(\u001b[0m\u001b[0mos\u001b[0m\u001b[1;33m.\u001b[0m\u001b[0mpath\u001b[0m\u001b[1;33m.\u001b[0m\u001b[0mdirname\u001b[0m\u001b[1;33m(\u001b[0m\u001b[0m__file__\u001b[0m\u001b[1;33m)\u001b[0m\u001b[1;33m)\u001b[0m\u001b[1;33m\u001b[0m\u001b[0m\n\u001b[0m\u001b[0;32m      4\u001b[0m \u001b[0mcurrent_file\u001b[0m\u001b[1;33m\u001b[0m\u001b[0m\n\u001b[0;32m      5\u001b[0m \u001b[1;31m#teste = pd.read_csv('../../dados/DemonstrativoVendas0106-0206.csv', delimiter=';', dtype=object,\u001b[0m\u001b[1;33m\u001b[0m\u001b[1;33m\u001b[0m\u001b[0m\n",
      "\u001b[1;31mNameError\u001b[0m: name '__file__' is not defined"
     ],
     "output_type": "error"
    }
   ],
   "source": [
    "\n",
    "import os\n",
    "current_file = os.path.abspath(os.path.dirname(__file__))\n",
    "current_file\n",
    "#teste = pd.read_csv('../../dados/DemonstrativoVendas0106-0206.csv', delimiter=';', dtype=object,\n",
    " #                    parse_dates=['Data', 'Dt. Captura', 'Dt. Situação']);"
   ]
  },
  {
   "cell_type": "code",
   "execution_count": 26,
   "metadata": {},
   "outputs": [],
   "source": [
    "import pandas as pd\n",
    "path = 'D:/Gabriel/Develop/Python/IR/';\n",
    "\n",
    "df = pd.read_csv(path+'dados/DemonstrativoVendas0106-0206.csv', delimiter=';', dtype=object)#,\n",
    "                     #parse_dates=['Data', 'Dt. Captura', 'Dt. Situação']);"
   ]
  },
  {
   "cell_type": "code",
   "execution_count": 27,
   "metadata": {
    "collapsed": true
   },
   "outputs": [
    {
     "ename": "SyntaxError",
     "evalue": "invalid syntax (<ipython-input-27-0309af6650d2>, line 5)",
     "traceback": [
      "\u001b[1;36m  File \u001b[1;32m\"<ipython-input-27-0309af6650d2>\"\u001b[1;36m, line \u001b[1;32m5\u001b[0m\n\u001b[1;33m    df['Data'] = df['Data'].map(lambda x:if(x == None):'1900-01-01');\u001b[0m\n\u001b[1;37m                                          ^\u001b[0m\n\u001b[1;31mSyntaxError\u001b[0m\u001b[1;31m:\u001b[0m invalid syntax\n"
     ],
     "output_type": "error"
    }
   ],
   "source": [
    "import datetime\n",
    "import numpy as np\n",
    "\n",
    "df = df.astype(object).where(pd.notnull(df), None);\n",
    "df['Data'] = df['Data'].map(lambda x:if(x == None):'1900-01-01');\n",
    "#datetime.datetime.strptime(\"21/12/2008\", \"%d/%m/%Y\").strftime('%Y-%m-%d')\n",
    "\n",
    "# ESTOU AQUI!!! Aplicar map para aplicar o convert do loop a cada elemento data do dataset:\n",
    "#pd.DataFrame(df[pd.isnull(df['Data'])==False]['Data'])\n",
    "\n",
    "df['Data'] = df['Data'].map(lambda x: datetime.datetime.strptime(str(x), \"%d/%m/%Y\").strftime('%Y-%m-%d'));\n",
    "\n",
    "#for x in df[pd.isnull(df['Data'])==False]['Data']:\n",
    "#    datetime.datetime.strptime(str(x), \"%d/%m/%Y\").strftime('%Y-%m-%d')\n",
    "\n",
    "df['Data'].head(10)\n",
    "\n",
    "#datetime.datetime.strptime(df['Data'], '%d/%m/%Y')\n",
    "\n",
    "#df['Data'] = pd.to_datetime(df['Data'], format='%m-%d-%Y', errors='ignore');\n",
    "#df['Data']"
   ]
  },
  {
   "cell_type": "code",
   "execution_count": 2,
   "metadata": {
    "collapsed": true
   },
   "outputs": [],
   "source": [
    "import Services.ConciliacaoRepository as repository\n",
    "from Services import ConciliacaoDataMunging\n",
    "\n",
    "conn = repository.openConn();\n",
    "cursor = repository.openCursor(conn);\n",
    "df_v1 = ConciliacaoDataMunging.extractAdquirentesFiles();\n",
    "dfHead, dfRow = ConciliacaoDataMunging.SliceAdquirentesFilesHeaderAndRows(df_v1);\n",
    "\n",
    "#repository.insertDsTransacaoIR(cursor, conn, dfRow);\n"
   ]
  },
  {
   "cell_type": "code",
   "execution_count": 24,
   "metadata": {},
   "outputs": [
    {
     "data": {
      "text/plain": [
       "[Timestamp('2017-01-06 00:00:00'),\n Timestamp('2017-02-06 00:00:00'),\n Timestamp('2017-03-06 00:00:00'),\n Timestamp('2017-04-06 00:00:00'),\n Timestamp('2017-05-06 00:00:00'),\n Timestamp('2017-06-06 00:00:00'),\n Timestamp('2017-07-06 00:00:00'),\n Timestamp('2017-08-06 00:00:00'),\n Timestamp('2017-09-06 00:00:00'),\n Timestamp('2017-10-06 00:00:00'),\n Timestamp('2017-06-15 00:00:00'),\n Timestamp('2017-06-16 00:00:00'),\n Timestamp('2017-08-15 00:00:00')]"
      ]
     },
     "execution_count": 24,
     "metadata": {},
     "output_type": "execute_result"
    }
   ],
   "source": [
    "from datetime import datetime\n",
    "import pandas as pd\n",
    "\n",
    "dfRow = dfRow.astype(object).where(pd.notnull(dfRow), None);\n",
    "#dfRow['Data'] = pd.DataFrame(dfRow['Data']).replace(\"00:00:00\", \"\");\n",
    "\n",
    "dfRow_v1 = dfRow.copy();\n",
    "\n",
    "#dfRow_v1['Data'].head(5)\n",
    "\n",
    "dfRow_v1['Data'] = dfRow_v1['Data'].map(lambda x:str(x).replace(\" 00:00:00\", \"\"))\n",
    "\n",
    "\n",
    "list(dfRow['Data'].unique())\n",
    "\n",
    "#dfRow_v1['Data'] = dfRow_v1['Data'].map(lambda x:datetime.strptime(str(x), \"%Y-%d-%m\").strftime('%Y-%m-%d'), na_action='ignore')\n",
    "\n",
    "\n",
    "# Correto:\n",
    "#dfRow['Data'] = dfRow['Data'].map(lambda x:str(x).replace(\" 00:00:00\", \"\"))\n",
    "#dfRow['Data'] = dfRow['Data'].map(lambda x:datetime.datetime.strptime(str(x), \"%Y-%d-%m\").strftime('%Y-%m-%d'), na_action='ignore')\n",
    "\n",
    "#dfRow['Data'].map()\n",
    "\n",
    "#pd.Timestamp.date(dfRow['Data'].get(30)).strftime('%Y-%d-%m')\n",
    "\n",
    "#dfRow['Data'] = pd.to_datetime(dfRow['Data'], format='%m-%d-%Y');\n",
    "\n",
    "#for i in dfRow.count():\n",
    "#    str(dfRow['Data'].get(i)).replace(\"00:00\")\n",
    "\n",
    "#str(x).replace(\"00:00:00\", \"\")\n",
    "\n",
    "#datetime.datetime.strptime(str(x), \"%Y-%d-%m\").strptime('%Y-%m-%d')\n",
    "\n",
    "#dfRow['Data'].map(lambda x:datetime.datetime.strptime(str(x), \"%Y-%d-%m\").strptime('%Y-%m-%d'), na_action='ignore')\n",
    "\n",
    "# ESTOU AQUI!!!! Convertendo data para o formato correto\n",
    "#dfRow['Data'].map(lambda x:datetime.datetime.strptime(str(x), \"%Y-%d-%m\").strftime('%Y-%m-%d'), na_action='ignore')\n",
    "\n",
    "#dfRow['Data'].map(lambda x:datetime.datetime.strptime(str(x), \"%d/%m/%Y\").strftime('%Y-%m-%d'))\n",
    "\n",
    "# Sem erro:\n",
    "#map(datetime.datetime.strptime(str(x), \"%d/%m/%Y\").strftime('%Y-%m-%d'), dfRow[pd.isnull(dfRow['Data'])==False]['Data'])\n",
    "\n",
    "#dfRow[pd.isnull(dfRow['Data'])==False]['Data'] = map(datetime.datetime.strptime(str(x), \"%d/%m/%Y\").strftime('%Y-%m-%d'), dfRow[pd.isnull(dfRow['Data'])==False]['Data'])\n",
    "#dfRow['Data']\n",
    "\n",
    "\n",
    "#dfRow['Data'] = dfRow['Data'].map(lambda x: datetime.datetime.strptime(str(x), \"%Y-%d-%m\").strftime('%Y-%m-%d'));\n",
    "\n",
    "#dfRow['Data'] = dfRow['Data'].map(lambda x: datetime.datetime.strptime(str(x), \"%d/%m/%Y\").strftime('%Y-%m-%d'));"
   ]
  },
  {
   "cell_type": "code",
   "execution_count": 131,
   "metadata": {
    "collapsed": true
   },
   "outputs": [
    {
     "data": {
      "text/plain": [
       "2        2017-01-06 00:00:00\n3        2017-01-06 00:00:00\n4        2017-01-06 00:00:00\n5        2017-01-06 00:00:00\n6        2017-01-06 00:00:00\n7        2017-01-06 00:00:00\n8        2017-01-06 00:00:00\n9        2017-01-06 00:00:00\n10       2017-01-06 00:00:00\n11       2017-01-06 00:00:00\n12       2017-01-06 00:00:00\n13       2017-01-06 00:00:00\n14       2017-01-06 00:00:00\n15       2017-01-06 00:00:00\n16       2017-01-06 00:00:00\n17       2017-01-06 00:00:00\n18       2017-01-06 00:00:00\n19       2017-01-06 00:00:00\n20       2017-01-06 00:00:00\n21       2017-01-06 00:00:00\n22       2017-01-06 00:00:00\n23       2017-01-06 00:00:00\n24       2017-01-06 00:00:00\n25       2017-01-06 00:00:00\n26       2017-01-06 00:00:00\n27       2017-01-06 00:00:00\n28       2017-01-06 00:00:00\n29       2017-01-06 00:00:00\n30       2017-01-06 00:00:00\n31       2017-01-06 00:00:00\n                ...         \n13389    2017-02-06 00:00:00\n13390    2017-02-06 00:00:00\n13391    2017-02-06 00:00:00\n13392    2017-02-06 00:00:00\n13393    2017-02-06 00:00:00\n13394    2017-02-06 00:00:00\n13395    2017-02-06 00:00:00\n13396    2017-02-06 00:00:00\n13397    2017-02-06 00:00:00\n13398    2017-02-06 00:00:00\n13399    2017-02-06 00:00:00\n13400    2017-02-06 00:00:00\n13401    2017-02-06 00:00:00\n13402    2017-02-06 00:00:00\n13403    2017-02-06 00:00:00\n13404    2017-02-06 00:00:00\n13405    2017-02-06 00:00:00\n13406    2017-02-06 00:00:00\n13407    2017-02-06 00:00:00\n13408    2017-02-06 00:00:00\n13409    2017-02-06 00:00:00\n13410    2017-02-06 00:00:00\n13411    2017-02-06 00:00:00\n13412    2017-02-06 00:00:00\n13413    2017-02-06 00:00:00\n13414    2017-02-06 00:00:00\n13415    2017-02-06 00:00:00\n13416    2017-02-06 00:00:00\n13417    2017-02-06 00:00:00\n13418    2017-02-06 00:00:00\nName: Data, Length: 13388, dtype: object"
      ]
     },
     "execution_count": 131,
     "metadata": {},
     "output_type": "execute_result"
    }
   ],
   "source": [
    "dfRow['Data']"
   ]
  },
  {
   "cell_type": "code",
   "execution_count": 33,
   "metadata": {},
   "outputs": [],
   "source": [
    "defaultPath = 'D:/Gabriel/Develop/Python/IR/';\n",
    "\n",
    "df = pd.read_csv(defaultPath + 'dados/VendaErpPagamentos0106-0206.csv', delimiter=';', dtype=object,\n",
    "                     parse_dates=['Dt. Transação', 'Dt. Venda']);\n",
    "\n",
    "df['Parc.'] = df['Parc.'].fillna(0).astype(int);\n",
    "df['Qtd. Pagamentos'] = df['Qtd. Pagamentos'].fillna(0).astype(int);\n",
    "df['Vlr. Pagamento'] = df['Vlr. Pagamento'].map(lambda x: x.replace('.', '').replace(',', '.')).astype(float);\n",
    "df['Vlr. Líquido'] = df['Vlr. Líquido'].map(lambda x: x.replace('.', '').replace(',', '.')).astype(float);\n",
    "df['Vlr. Parcela'] = df['Vlr. Parcela'].fillna('0');\n",
    "df['Vlr. Adic. 1'] = df['Vlr. Adic. 1'].fillna('0');\n",
    "df['Vlr. Adic. 2'] = df['Vlr. Adic. 2'].fillna('0');\n",
    "df['Vlr. Diferença'] = df['Vlr. Diferença'].fillna('0');\n",
    "df['Vlr. Parcela'] = df['Vlr. Parcela'].map(lambda x: x.replace('.', '').replace(',', '.')).astype(float);\n",
    "df['Vlr. Adic. 1'] = df['Vlr. Adic. 1'].map(lambda x: x.replace('.', '').replace(',', '.')).astype(float);\n",
    "df['Vlr. Adic. 2'] = df['Vlr. Adic. 2'].map(lambda x: x.replace('.', '').replace(',', '.')).astype(float);\n",
    "df['Vlr. Diferença'] = df['Vlr. Diferença'].map(lambda x: x.replace('.', '').replace(',', '.')).astype(float);\n",
    "#df_header = df[df['ID Único EQUALS'].isnull() == True];\n",
    "#df_header = df_header[['Nro. Autorização', 'Vlr. Bruto', 'Vlr. Comissão', 'Vlr. Líquido', 'Vlr. Rejeitado']];\n",
    "df_rows = df[df['Bandeira'].isnull() == False];\n",
    "df_head = df[df['Bandeira'].isnull() == True];\n",
    "\n",
    "df_rows = df_rows.iloc[0:len(df_rows), 2:40];\n",
    "df_rows['Dt. Venda'] = df_rows.astype(object).where(pd.notnull(df_rows), None)['Dt. Venda']"
   ]
  },
  {
   "cell_type": "code",
   "execution_count": 34,
   "metadata": {
    "collapsed": true
   },
   "outputs": [
    {
     "name": "stdout",
     "output_type": "stream",
     "text": [
      "1                    None\n3     2017-01-06 00:00:00\n4     2017-01-06 00:00:00\n5     2017-01-06 00:00:00\n6     2017-01-06 00:00:00\n7     2017-01-06 00:00:00\n8     2017-01-06 00:00:00\n9     2017-01-06 00:00:00\n10    2017-01-06 00:00:00\n11    2017-01-06 00:00:00\nName: Dt. Venda, dtype: object\n"
     ]
    }
   ],
   "source": [
    "import numpy as np\n",
    "\n",
    "df_rows = df_rows.astype(object).where(pd.notnull(df_rows), None)\n",
    "\n",
    "#df_rows['Dt. Venda'] = df_rows.astype(object).where(pd.notnull(df_rows), 'N/A')['Dt. Venda']\n",
    "\n",
    "print(pd.DataFrame(df_rows)['Dt. Venda'].head(10));\n",
    "\n",
    "\n"
   ]
  },
  {
   "cell_type": "code",
   "execution_count": 35,
   "metadata": {},
   "outputs": [],
   "source": [
    "query = (\"INSERT INTO [dbo].[dsTransacaoIR] \"\n",
    "       \"([NroAutorizacao] \"\n",
    "       \",[IDERP] \"\n",
    "       \",[Cliente] \"\n",
    "       \",[Estabelecimento] \"\n",
    "       \",[CategoriaEstabelecimento] \"\n",
    "       \",[Adquirente] \"\n",
    "       \",[idPagamento] \"\n",
    "       \",[EstabERP] \"\n",
    "       \",[CanalVenda] \"\n",
    "       \",[NroCanal] \"\n",
    "       \",[FormaPagto] \"\n",
    "       \",[DtTransacao] \"\n",
    "       \",[DtVenda] \"\n",
    "       \",[LoteInterno] \"\n",
    "       \",[LoteAdq] \"\n",
    "       \",[IDContabilPagamento] \"\n",
    "       \",[IDContabilVenda] \"\n",
    "       \",[Bandeira] \"\n",
    "       \",[NumCartaoCredito] \"\n",
    "       \",[NSU] \"\n",
    "       \",[TID] \"\n",
    "       \",[Localizador] \"\n",
    "       \",[MeioDeCaptura] \"\n",
    "       \",[Parc] \" \n",
    "       \",[QtdPagamentos] \"\n",
    "       \",[VlrPagamento] \"\n",
    "       \",[VlrLiquido] \"\n",
    "       \",[VlrParcela] \"\n",
    "       \",[VlrAdic1] \"\n",
    "       \",[VlrAdic2] \"\n",
    "       \",[VlrDiferenca] \"\n",
    "       \",[Resultado] \"\n",
    "       \",[Conciliacao] \"\n",
    "       \",[NomeTarefa] \"\n",
    "       \",[SituacaoTarefa] \"\n",
    "       \",[SituacaoParam] \"\n",
    "       \",[SituacaoConcParam] \"\n",
    "       \",[FormaPagParam]) \"\n",
    "        \"VALUES (?,?,?,?,?,?,?,?,?,?,?,?,?,?,?,?,?,?,?,?,?,?,?,?,?,?,?,?,?,?,?,?,?,?,?,?,?,?)\");\n",
    "cursor.executemany(\n",
    "    query,\n",
    "    df_rows.values.tolist());\n",
    "conn.commit();\n",
    "\n",
    "\n",
    "#df_rows['Dt. Venda'] = df_rows.astype(object).where(pd.notnull(df_rows), None)['Dt. Venda']\n",
    " \n",
    "#df_rows.head(5)\n",
    "\n",
    "#df_rows['Dt. Venda'].map(lambda x:x.isnull()==True)\n",
    "\n",
    "\n",
    "#df_rows['Dt. Venda'].isnull()"
   ]
  },
  {
   "cell_type": "code",
   "execution_count": 127,
   "metadata": {},
   "outputs": [
    {
     "data": {
      "text/plain": [
       "Timestamp('2017-01-06 00:00:00')"
      ]
     },
     "execution_count": 127,
     "metadata": {},
     "output_type": "execute_result"
    }
   ],
   "source": [
    "df_rows['Dt. Venda'][5]"
   ]
  },
  {
   "cell_type": "code",
   "execution_count": 128,
   "metadata": {},
   "outputs": [],
   "source": []
  }
 ],
 "metadata": {
  "kernelspec": {
   "display_name": "Python 2",
   "language": "python",
   "name": "python2"
  },
  "language_info": {
   "codemirror_mode": {
    "name": "ipython",
    "version": 2
   },
   "file_extension": ".py",
   "mimetype": "text/x-python",
   "name": "python",
   "nbconvert_exporter": "python",
   "pygments_lexer": "ipython2",
   "version": "2.7.6"
  }
 },
 "nbformat": 4,
 "nbformat_minor": 0
}
