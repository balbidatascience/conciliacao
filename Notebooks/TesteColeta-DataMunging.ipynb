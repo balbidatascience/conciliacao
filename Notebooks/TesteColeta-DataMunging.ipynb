{
 "cells": [
  {
   "cell_type": "code",
   "execution_count": 1,
   "metadata": {},
   "outputs": [],
   "source": [
    "import pandas as pd\n",
    "from datetime import datetime"
   ]
  },
  {
   "cell_type": "code",
   "execution_count": 2,
   "metadata": {
    "collapsed": true
   },
   "outputs": [
    {
     "data": {
      "text/plain": [
       "[nan,\n '01/06/2017',\n '02/06/2017',\n '03/06/2017',\n '04/06/2017',\n '05/06/2017',\n '06/06/2017',\n '07/06/2017',\n '08/06/2017',\n '09/06/2017',\n '10/06/2017',\n '15/06/2017',\n '16/06/2017',\n '15/08/2017']"
      ]
     },
     "execution_count": 2,
     "metadata": {},
     "output_type": "execute_result"
    }
   ],
   "source": [
    "defaultPath = 'D:/Gabriel/Develop/Python/IR/';\n",
    "df = pd.read_csv(defaultPath + 'dados/DemonstrativoVendas01062017-10062017.csv', delimiter=';', dtype=object);\n",
    "df['Parc.'] = df['Parc.'].fillna(0).astype(int);\n",
    "df['Vlr. Bruto'] = df['Vlr. Bruto'].map(lambda x: x.replace('.', '').replace(',', '.')).astype(float);\n",
    "df['Vlr. Comissão'] = df['Vlr. Comissão'].map(lambda x: x.replace('.', '').replace(',', '.')).astype(float);\n",
    "df['Vlr. Líquido'] = df['Vlr. Líquido'].map(lambda x: x.replace('.', '').replace(',', '.')).astype(float);\n",
    "df['Vlr. Rejeitado'] = df['Vlr. Rejeitado'].map(lambda x: x.replace('.', '').replace(',', '.')).astype(float);\n",
    "\n",
    "\n",
    "list(df['Data'].unique())    "
   ]
  },
  {
   "cell_type": "code",
   "execution_count": 4,
   "metadata": {},
   "outputs": [],
   "source": [
    "df_header = df[df['ID Único EQUALS'].isnull() == True];\n",
    "df_header = df_header[['Nro. Autorização', 'Vlr. Bruto', 'Vlr. Comissão', 'Vlr. Líquido', 'Vlr. Rejeitado']];\n",
    "dfRows = df[df['ID Único EQUALS'].isnull() == False];\n",
    "dfRows = dfRows.iloc[0:len(dfRows), 2:38];"
   ]
  },
  {
   "cell_type": "code",
   "execution_count": 5,
   "metadata": {},
   "outputs": [
    {
     "data": {
      "text/plain": [
       "['01/06/2017',\n '02/06/2017',\n '03/06/2017',\n '04/06/2017',\n '05/06/2017',\n '06/06/2017',\n '07/06/2017',\n '08/06/2017',\n '09/06/2017',\n '10/06/2017',\n '15/06/2017',\n '16/06/2017',\n '15/08/2017']"
      ]
     },
     "execution_count": 5,
     "metadata": {},
     "output_type": "execute_result"
    }
   ],
   "source": [
    "list(dfRows['Data'].unique())  "
   ]
  },
  {
   "cell_type": "code",
   "execution_count": 34,
   "metadata": {},
   "outputs": [],
   "source": [
    "\n",
    "#list(dfRow['Data'].unique())"
   ]
  },
  {
   "cell_type": "code",
   "execution_count": 6,
   "metadata": {},
   "outputs": [],
   "source": [
    "import Services.ConciliacaoRepository as repository\n",
    "from Services import ConciliacaoDataMunging\n",
    "\n",
    "conn = repository.openConn();\n",
    "cursor = repository.openCursor(conn);"
   ]
  },
  {
   "cell_type": "code",
   "execution_count": 7,
   "metadata": {
    "collapsed": true
   },
   "outputs": [],
   "source": [
    "dfRows = dfRows.astype(object).where(pd.notnull(dfRows), None);\n",
    "#format datetime para mm/dd/yyyy\n",
    "dfRows['Data'] = dfRows['Data'].map(lambda x: datetime.strptime(str(x), \"%d/%m/%Y\").strftime('%Y-%m-%d'), na_action='ignore')\n",
    "dfRows['Dt. Captura'] = dfRows['Dt. Captura'].map(lambda x: datetime.strptime(str(x), \"%d/%m/%Y\").strftime('%Y-%m-%d'),na_action='ignore')\n",
    "dfRows['Dt. Situação'] = dfRows['Dt. Situação'].map(lambda x: datetime.strptime(str(x), \"%d/%m/%Y\").strftime('%Y-%m-%d'),na_action='ignore')\n",
    "#dfRows['Data'] = dfRows['Data'].map(lambda x:str(x).replace(\" 00:00:00\", \"\"))\n",
    "#dfRows['Data'] = dfRows['Data'].map(lambda x:datetime.strptime(str(x), \"%Y-%d-%m\").strftime('%Y-%m-%d'), na_action='ignore')\n",
    "\n"
   ]
  },
  {
   "cell_type": "code",
   "execution_count": 9,
   "metadata": {},
   "outputs": [
    {
     "data": {
      "text/plain": [
       "array(['2017-06-01', '2017-06-08', '2017-06-22', '2017-06-02',\n       '2017-06-16', '2017-06-09', '2017-06-19', '2017-08-03',\n       '2017-07-31', '2017-07-03', '2017-06-05', '2017-06-20',\n       '2017-08-15', '2017-08-16', '2017-06-03', '2017-06-21',\n       '2017-06-29', '2017-08-02', '2017-06-12', '2017-07-04',\n       '2017-06-04', '2017-06-23', '2017-07-13', '2017-06-13',\n       '2017-08-05', '2017-06-15', '2017-07-05', '2017-06-06',\n       '2017-08-04', '2017-07-06', '2017-06-07', '2017-06-26',\n       '2017-07-07', '2017-07-10', '2017-08-07', '2017-05-29',\n       '2017-06-27', '2017-08-08', '2017-06-10', '2017-06-28',\n       '2017-08-09', '2017-07-11'], dtype=object)"
      ]
     },
     "execution_count": 9,
     "metadata": {},
     "output_type": "execute_result"
    }
   ],
   "source": [
    "dfRows['Dt. Situação'].unique()"
   ]
  },
  {
   "cell_type": "code",
   "execution_count": 11,
   "metadata": {},
   "outputs": [],
   "source": [
    "cursor.executemany(\n",
    "    \"INSERT INTO [dbo].[dsTransacaoAdquirente] ([NroAutorizacao] ,[IDERP] ,[IDEQUALS] ,[Adquirente] ,[Tipo] ,[Produto] ,[Estabelecimento] ,[CategoriaEstabelecimento] ,[Bandeira] ,[LoteRO] ,[NroTerminal] ,[MeioCaptura] ,[Data] ,[DtCaptura] ,[Hora] ,[NroCartao] ,[OrigemCartao] ,[NSU] ,[TID] ,[Parc] ,[LoteUnico] ,[NroReferencia] ,[NroFiliacao] ,[VlrBruto] ,[VlrComissao] ,[Taxa] ,[TxContrato] ,[VlrLi­quido] ,[VlrRejeitado] ,[Situacao] ,[DtSituacao] ,[Conciliada] ,[MJustificativa] ,[NomeTarefa] ,[SituacaoTarefa] ,[ConciliacaoParam]) VALUES (?,?,?,?,?,?,?,?,?,?,?,?,?,?,?,?,?,?,?,?,?,?,?,?,?,?,?,?,?,?,?,?,?,?,?,?)\",\n",
    "    dfRows.values.tolist());\n",
    "conn.commit();"
   ]
  },
  {
   "cell_type": "code",
   "execution_count": null,
   "metadata": {},
   "outputs": [],
   "source": []
  }
 ],
 "metadata": {
  "kernelspec": {
   "display_name": "Python 2",
   "language": "python",
   "name": "python2"
  },
  "language_info": {
   "codemirror_mode": {
    "name": "ipython",
    "version": 2
   },
   "file_extension": ".py",
   "mimetype": "text/x-python",
   "name": "python",
   "nbconvert_exporter": "python",
   "pygments_lexer": "ipython2",
   "version": "2.7.6"
  }
 },
 "nbformat": 4,
 "nbformat_minor": 0
}
